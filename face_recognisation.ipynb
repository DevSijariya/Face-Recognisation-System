{
 "cells": [
  {
   "cell_type": "markdown",
   "metadata": {},
   "source": [
    "Importing Libraries"
   ]
  },
  {
   "cell_type": "code",
   "execution_count": 2,
   "metadata": {},
   "outputs": [],
   "source": [
    "# Import standard dependencies\n",
    "import cv2\n",
    "import os\n",
    "import random\n",
    "import numpy as np\n",
    "from matplotlib import pyplot as plt\n",
    "\n",
    "# Import tensorflow dependencies - Functional API\n",
    "from tensorflow.keras.models import Model\n",
    "from tensorflow.keras.layers import Layer, Conv2D, Dense, MaxPooling2D, Input, Flatten\n",
    "import tensorflow as tf"
   ]
  },
  {
   "cell_type": "code",
   "execution_count": 8,
   "metadata": {},
   "outputs": [],
   "source": []
  },
  {
   "cell_type": "markdown",
   "metadata": {},
   "source": [
    "Create Folder Structure"
   ]
  },
  {
   "cell_type": "code",
   "execution_count": 9,
   "metadata": {},
   "outputs": [],
   "source": [
    "# Setup paths\n",
    "POS_PATH = os.path.join('data', 'positive')\n",
    "NEG_PATH = os.path.join('data', 'negative')\n",
    "ANC_PATH = os.path.join('data', 'anchor')"
   ]
  },
  {
   "cell_type": "code",
   "execution_count": 11,
   "metadata": {},
   "outputs": [],
   "source": [
    "# Make the directories\n",
    "os.makedirs(POS_PATH)\n",
    "os.makedirs(NEG_PATH)\n",
    "os.makedirs(ANC_PATH)"
   ]
  },
  {
   "cell_type": "code",
   "execution_count": 13,
   "metadata": {},
   "outputs": [],
   "source": [
    "# Uncompress Tar GZ Labelled Faces in the Wild Dataset\n",
    "!tar -xf lfw.tgz"
   ]
  },
  {
   "cell_type": "code",
   "execution_count": 14,
   "metadata": {},
   "outputs": [],
   "source": [
    "# Move LFW Images to the following repository data/negative\n",
    "for directory in os.listdir('lfw'):\n",
    "    for file in os.listdir(os.path.join('lfw', directory)):\n",
    "        EX_PATH = os.path.join('lfw', directory, file)\n",
    "        NEW_PATH = os.path.join(NEG_PATH, file)\n",
    "        os.replace(EX_PATH, NEW_PATH)"
   ]
  },
  {
   "cell_type": "code",
   "execution_count": 15,
   "metadata": {},
   "outputs": [
    {
     "data": {
      "text/plain": [
       "['Aaron_Eckhart',\n",
       " 'Aaron_Guiel',\n",
       " 'Aaron_Patterson',\n",
       " 'Aaron_Peirsol',\n",
       " 'Aaron_Pena',\n",
       " 'Aaron_Sorkin',\n",
       " 'Aaron_Tippin',\n",
       " 'Abbas_Kiarostami',\n",
       " 'Abba_Eban',\n",
       " 'Abdel_Aziz_Al-Hakim',\n",
       " 'Abdel_Madi_Shabneh',\n",
       " 'Abdel_Nasser_Assidi',\n",
       " 'Abdoulaye_Wade',\n",
       " 'Abdulaziz_Kamilov',\n",
       " 'Abdullah',\n",
       " 'Abdullah_Ahmad_Badawi',\n",
       " 'Abdullah_al-Attiyah',\n",
       " 'Abdullah_Gul',\n",
       " 'Abdullah_Nasseef',\n",
       " 'Abdullatif_Sener',\n",
       " 'Abdul_Majeed_Shobokshi',\n",
       " 'Abdul_Rahman',\n",
       " 'Abel_Aguilar',\n",
       " 'Abel_Pacheco',\n",
       " 'Abid_Hamid_Mahmud_Al-Tikriti',\n",
       " 'Abner_Martinez',\n",
       " 'Abraham_Foxman',\n",
       " 'Aby_Har-Even',\n",
       " 'Adam_Ant',\n",
       " 'Adam_Freier',\n",
       " 'Adam_Herbert',\n",
       " 'Adam_Kennedy',\n",
       " 'Adam_Mair',\n",
       " 'Adam_Rich',\n",
       " 'Adam_Sandler',\n",
       " 'Adam_Scott',\n",
       " 'Adelina_Avila',\n",
       " 'Adel_Al-Jubeir',\n",
       " 'Adisai_Bodharamik',\n",
       " 'Adolfo_Aguilar_Zinser',\n",
       " 'Adolfo_Rodriguez_Saa',\n",
       " 'Adoor_Gopalakarishnan',\n",
       " 'Adriana_Lima',\n",
       " 'Adriana_Perez_Navarro',\n",
       " 'Adrianna_Zuzic',\n",
       " 'Adrian_Annus',\n",
       " 'Adrian_Fernandez',\n",
       " 'Adrian_McPherson',\n",
       " 'Adrian_Murrell',\n",
       " 'Adrian_Nastase',\n",
       " 'Adrien_Brody',\n",
       " 'Afton_Smith',\n",
       " 'Agbani_Darego',\n",
       " 'Agnelo_Queiroz',\n",
       " 'Agnes_Bruckner',\n",
       " 'Ahmad_Jbarah',\n",
       " 'Ahmad_Masood',\n",
       " 'Ahmed_Ahmed',\n",
       " 'Ahmed_Chalabi',\n",
       " 'Ahmed_Ghazi',\n",
       " 'Ahmed_Ibrahim_Bilal',\n",
       " 'Ahmed_Lopez',\n",
       " 'Ahmed_Qureia',\n",
       " 'Ahmet_Demir',\n",
       " 'Ahmet_Necdet_Sezer',\n",
       " 'Aicha_El_Ouafi',\n",
       " 'Aidan_Quinn',\n",
       " 'Aileen_Riggin_Soule',\n",
       " 'Ainsworth_Dyer',\n",
       " 'Ain_Seppik',\n",
       " 'Aishwarya_Rai',\n",
       " 'Aitor_Gonzalez',\n",
       " 'Aiysha_Smith',\n",
       " 'Ai_Sugiyama',\n",
       " 'Ajit_Agarkar',\n",
       " 'AJ_Cook',\n",
       " 'AJ_Lamas',\n",
       " 'Akbar_Al_Baker',\n",
       " 'Akbar_Hashemi_Rafsanjani',\n",
       " 'Akhmed_Zakayev',\n",
       " 'Akiko_Morigami',\n",
       " 'Akmal_Taher',\n",
       " 'Alain_Cervantes',\n",
       " 'Alain_Ducasse',\n",
       " 'Alanis_Morissette',\n",
       " 'Alanna_Ubach',\n",
       " 'Alan_Ball',\n",
       " 'Alan_Dershowitz',\n",
       " 'Alan_Dreher',\n",
       " 'Alan_Greenspan',\n",
       " 'Alan_Greer',\n",
       " 'Alan_Jackson',\n",
       " 'Alan_Mulally',\n",
       " 'Alan_Stonecipher',\n",
       " 'Alan_Tang_Kwong-wing',\n",
       " 'Alan_Trammell',\n",
       " 'Alan_Zemaitis',\n",
       " 'Alastair_Campbell',\n",
       " 'Alastair_Johnston',\n",
       " 'Albaro_Recoba',\n",
       " 'Alberta_Lee',\n",
       " 'Alberto_Acosta',\n",
       " 'Alberto_Fujimori',\n",
       " 'Alberto_Gonzales',\n",
       " 'Alberto_Ruiz_Gallardon',\n",
       " 'Alberto_Sordi',\n",
       " 'Albert_Brooks',\n",
       " 'Albert_Costa',\n",
       " 'Albert_Montanes',\n",
       " 'Albert_Pujols',\n",
       " 'Albrecht_Mentz',\n",
       " 'Aldo_Paredes',\n",
       " 'Alecos_Markides',\n",
       " 'Alec_Baldwin',\n",
       " 'Alejandro_Atchugarry',\n",
       " 'Alejandro_Avila',\n",
       " 'Alejandro_Fernandez',\n",
       " 'Alejandro_Gonzalez_Inarritu',\n",
       " 'Alejandro_Lembo',\n",
       " 'Alejandro_Lerner',\n",
       " 'Alejandro_Lopez',\n",
       " 'Alejandro_Toledo',\n",
       " 'Aleksander_Kwasniewski',\n",
       " 'Aleksander_Voloshin',\n",
       " 'Alek_Wek',\n",
       " 'Alessandra_Cerna',\n",
       " 'Alessandro_Nesta',\n",
       " 'Alexander_Downer',\n",
       " 'Alexander_Losyukov',\n",
       " 'Alexander_Lukashenko',\n",
       " 'Alexander_Payne',\n",
       " 'Alexander_Rumyantsev',\n",
       " 'Alexandra_Jackson',\n",
       " 'Alexandra_Pelosi',\n",
       " 'Alexandra_Rozovskaya',\n",
       " 'Alexandra_Spann',\n",
       " 'Alexandra_Stevenson',\n",
       " 'Alexandra_Vodjanikova',\n",
       " 'Alexandre_Daigle',\n",
       " 'Alexandre_Despatie',\n",
       " 'Alexandre_Herchcovitch',\n",
       " 'Alexandre_Vinokourov',\n",
       " 'Alexa_Loren',\n",
       " 'Alexa_Vega',\n",
       " 'Alexis_Bledel',\n",
       " 'Alexis_Dennisoff',\n",
       " 'Alex_Barros',\n",
       " 'Alex_Cabrera',\n",
       " 'Alex_Cejka',\n",
       " 'Alex_Corretja',\n",
       " 'Alex_Ferguson',\n",
       " 'Alex_Gonzalez',\n",
       " 'Alex_Holmes',\n",
       " 'Alex_King',\n",
       " 'Alex_Penelas',\n",
       " 'Alex_Popov',\n",
       " 'Alex_Sink',\n",
       " 'Alex_Wallau',\n",
       " 'Alex_Zanardi',\n",
       " 'Alfonso_Cuaron',\n",
       " 'Alfonso_Portillo',\n",
       " 'Alfonso_Soriano',\n",
       " 'Alfredo_di_Stefano',\n",
       " 'Alfredo_Moreno',\n",
       " 'Alfredo_Pena',\n",
       " 'Alfred_Ford',\n",
       " 'Alfred_Sant',\n",
       " 'Alice_Fisher',\n",
       " 'Alicia_Hollowell',\n",
       " 'Alicia_Keys',\n",
       " 'Alicia_Molik',\n",
       " 'Alicia_Silverstone',\n",
       " 'Alicia_Witt',\n",
       " 'Alimzhan_Tokhtakhounov',\n",
       " 'Alina_Kabaeva',\n",
       " 'Aline_Chretien',\n",
       " 'Alisha_Richman',\n",
       " 'Alison_Krauss',\n",
       " 'Alison_Lohman',\n",
       " 'Alistair_MacDonald',\n",
       " 'Ali_Abbas',\n",
       " 'Ali_Abdullah_Saleh',\n",
       " 'Ali_Adbul_Karim_Madani',\n",
       " 'Ali_Ahmeti',\n",
       " 'Ali_Bin_Hussein',\n",
       " 'Ali_Fallahian',\n",
       " 'Ali_Hammoud',\n",
       " 'Ali_Khamenei',\n",
       " 'Ali_Mohammed_Maher',\n",
       " 'Ali_Naimi',\n",
       " 'Allan_Houston',\n",
       " 'Allan_Kemakeza',\n",
       " 'Allan_Wagner',\n",
       " 'Allen_Iverson',\n",
       " 'Allen_Rock',\n",
       " 'Allison_Janney',\n",
       " 'Allison_Searing',\n",
       " 'Allyson_Felix',\n",
       " 'Ally_Sheedy',\n",
       " 'Alma_Powell',\n",
       " 'Almeida_Baptista',\n",
       " 'Alonzo_Mourning',\n",
       " 'Alvaro_Noboa',\n",
       " 'Alvaro_Silva_Calderon',\n",
       " 'Alvaro_Uribe',\n",
       " 'Alyse_Beaupre',\n",
       " 'Alyson_Hannigan',\n",
       " 'Aly_Wagner',\n",
       " 'Al_Cardenas',\n",
       " 'Al_Davis',\n",
       " 'Al_Gore',\n",
       " 'Al_Leiter',\n",
       " 'Al_Pacino',\n",
       " 'Al_Sharpton',\n",
       " 'Amanda_Beard',\n",
       " 'Amanda_Bynes',\n",
       " 'Amanda_Coetzer',\n",
       " 'Amanda_Marsh',\n",
       " 'Amanda_Plumer',\n",
       " 'Amber_Frey',\n",
       " 'Amber_Tamblyn',\n",
       " 'Ambrose_Lee',\n",
       " 'Amelia_Vega',\n",
       " 'Amelie_Mauresmo',\n",
       " 'Amer_al-Saadi',\n",
       " 'Amporn_Falise',\n",
       " 'Amram_Mitzna',\n",
       " 'Amr_Moussa',\n",
       " 'Amy_Brenneman',\n",
       " 'Amy_Cotton',\n",
       " 'Amy_Gale',\n",
       " 'Amy_Pascal',\n",
       " 'Amy_Redford',\n",
       " 'Amy_Smart',\n",
       " 'Amy_Yasbeck',\n",
       " 'Anastasia_Kelesidou',\n",
       " 'Anastasia_Myskina',\n",
       " 'Anatoliy_Kinakh',\n",
       " 'Ana_Claudia_Talancon',\n",
       " 'Ana_Guevara',\n",
       " 'Ana_Isabel_Sanchez',\n",
       " 'Ana_Palacio',\n",
       " 'Ana_Paula_Gerard',\n",
       " 'Ana_Sebastiao',\n",
       " 'Anderson_Varejao',\n",
       " 'Anders_Ebbeson',\n",
       " 'Anders_Fogh_Rasmussen',\n",
       " 'Andreas_Vinciguerra',\n",
       " 'Andrea_Bocelli',\n",
       " 'Andrea_De_Cruz',\n",
       " 'Andrea_Kiser',\n",
       " 'Andrea_Yates',\n",
       " 'Andrei_Konchalovsky',\n",
       " 'Andrei_Mikhnevich',\n",
       " 'Andrei_Nikolishin',\n",
       " 'Andres_DAlessandro',\n",
       " 'Andres_Manuel_Lopez_Obrador',\n",
       " 'Andres_Pastrana',\n",
       " 'Andrew_Bernard',\n",
       " 'Andrew_Bunner',\n",
       " 'Andrew_Caldecott',\n",
       " 'Andrew_Cuomo',\n",
       " 'Andrew_Fastow',\n",
       " 'Andrew_Firestone',\n",
       " 'Andrew_Gilligan',\n",
       " 'Andrew_Jarecki',\n",
       " 'Andrew_Luster',\n",
       " 'Andrew_Niccol',\n",
       " 'Andrew_Sabey',\n",
       " 'Andrew_Shutley',\n",
       " 'Andrew_Weissmann',\n",
       " 'Andrew_Wetzler',\n",
       " 'Andre_Agassi',\n",
       " 'Andre_Bucher',\n",
       " 'Andre_Lange',\n",
       " 'Andre_Smith',\n",
       " 'Andre_Techine',\n",
       " 'Andrzej_Tyszkiewicz',\n",
       " 'Andy_Benes',\n",
       " 'Andy_Bryant',\n",
       " 'Andy_Dick',\n",
       " 'Andy_Garcia',\n",
       " 'Andy_Graves',\n",
       " 'Andy_Griffith',\n",
       " 'Andy_Griggs',\n",
       " 'Andy_Hebb',\n",
       " 'Andy_Lau',\n",
       " 'Andy_Madikians',\n",
       " 'Andy_North',\n",
       " 'Andy_Perez',\n",
       " 'Andy_Roddick',\n",
       " 'Andy_Rooney',\n",
       " 'Andy_Warhol',\n",
       " 'Andy_Wisecarver',\n",
       " 'Anette_Hosoi',\n",
       " 'AnFernce_Negron',\n",
       " 'Angela_Alvarado_Rosa',\n",
       " 'Angela_Bassett',\n",
       " 'Angela_Lansbury',\n",
       " 'Angela_Mascia-Frye',\n",
       " 'Angela_Merkel',\n",
       " 'Angelica_Romero',\n",
       " 'Angelina_Jolie',\n",
       " 'Angelo_Genova',\n",
       " 'Angelo_Reyes',\n",
       " 'Angel_Lockward',\n",
       " 'Angel_Maza',\n",
       " 'Angie_Arzola',\n",
       " 'Angie_Martinez',\n",
       " 'Anibal_Ibarra',\n",
       " 'Anil_Ramsook',\n",
       " 'Anita_DeFrantz',\n",
       " 'Anja_Paerson',\n",
       " 'Anjum_Hussain',\n",
       " 'Anna_Chicherova',\n",
       " 'Anna_Faris',\n",
       " 'Anna_Jones',\n",
       " 'Anna_Kournikova',\n",
       " 'Anna_Nicole_Smith',\n",
       " 'Anneli_Jaatteenmaki',\n",
       " 'Annette_Bening',\n",
       " 'Annette_Lu',\n",
       " 'Anne_Cavers',\n",
       " 'Anne_Donovan',\n",
       " 'Anne_Heche',\n",
       " 'Anne_Krueger',\n",
       " 'Anne_McLellan',\n",
       " 'Anne_ONeil',\n",
       " 'Annie-Jeanne_Reynaud',\n",
       " 'Annie_Chaplin',\n",
       " 'Annie_Machon',\n",
       " 'Annika_Sorenstam',\n",
       " 'Ann_Godbehere',\n",
       " 'Ann_Landers',\n",
       " 'Ann_Morgan',\n",
       " 'Ann_Veneman',\n",
       " 'Antanas_Valionis',\n",
       " 'Anthony_Carter',\n",
       " 'Anthony_Corso',\n",
       " 'Anthony_Ervin',\n",
       " 'Anthony_Fauci',\n",
       " 'Anthony_Garotinho',\n",
       " 'Anthony_Hazen',\n",
       " 'Anthony_Hopkins',\n",
       " 'Anthony_LaPaglia',\n",
       " 'Anthony_Lee_Johnson',\n",
       " 'Anthony_Mazur',\n",
       " 'Anthony_Pico',\n",
       " 'Anthony_Pisciotti',\n",
       " 'Anthony_Principi',\n",
       " 'Anthony_Rackauckas',\n",
       " 'Anthony_Scott_Miller',\n",
       " 'Antje_Buschschulte',\n",
       " 'Antonio_Banderas',\n",
       " 'Antonio_Bernardo',\n",
       " 'Antonio_Cassano',\n",
       " 'Antonio_Catania',\n",
       " 'Antonio_Elias_Saca',\n",
       " 'Antonio_Palocci',\n",
       " 'Antonio_Trillanes',\n",
       " 'Antony_Leung',\n",
       " 'Anton_Balasingham',\n",
       " 'Antwun_Echols',\n",
       " 'Anwar_Ibrahim',\n",
       " 'Anzori_Kikalishvili',\n",
       " 'Aparna_Pillai',\n",
       " 'Aram_Adler',\n",
       " 'Arantxa_Sanchez-Vicario',\n",
       " 'Aretha_Franklin',\n",
       " 'Arianna_Huffington',\n",
       " 'Ariel_Sharon',\n",
       " 'Arie_Haan',\n",
       " 'Arif_Mardin',\n",
       " 'Ari_Bousbib',\n",
       " 'Ari_Fleischer',\n",
       " 'Arlen_Specter',\n",
       " 'Armando_Avila_Panchame',\n",
       " 'Armando_Calderon_Sol',\n",
       " 'Armando_Carrillo',\n",
       " 'Armand_Sargen',\n",
       " 'Arminio_Fraga',\n",
       " 'Arnaud_Clement',\n",
       " 'Arnaud_Lagardere',\n",
       " 'Arnie_Boehm',\n",
       " 'Arnoldo_Aleman',\n",
       " 'Arnold_Palmer',\n",
       " 'Arnold_Schwarzenegger',\n",
       " 'Arnold_Scott',\n",
       " 'Aron_Ralston',\n",
       " 'Arsinee_Khanjian',\n",
       " 'Arthur_Johnson',\n",
       " 'Arthur_Martinez',\n",
       " 'Artieas_Shanks',\n",
       " 'Arturo_Gatti',\n",
       " 'Art_Cooper',\n",
       " 'Art_Hoffmann',\n",
       " 'Art_Howe',\n",
       " 'Art_Lopez',\n",
       " 'Arye_Mekel',\n",
       " 'Asa_Hutchinson',\n",
       " 'Ascencion_Barajas',\n",
       " 'Ashanti',\n",
       " 'Ashlea_Talbot',\n",
       " 'Ashley_Judd',\n",
       " 'Ashley_Olsen',\n",
       " 'Ashley_Postell',\n",
       " 'Ashraf_Alasmar',\n",
       " 'Ashraf_Ghani',\n",
       " 'Ashton_Kutcher',\n",
       " 'Asif_Ali_Zardari',\n",
       " 'Asif_Hanif',\n",
       " 'Askar_Akayev',\n",
       " 'Asmaa_Assad',\n",
       " 'Assad_Ahmadi',\n",
       " 'Astou_Ndiaye-Diatta',\n",
       " 'Astrid_Betancourt',\n",
       " 'Astrid_Eyzaguirre',\n",
       " 'Atal_Bihari_Vajpayee',\n",
       " 'Ataollah_Mohajerani',\n",
       " 'Atiabet_Ijan_Amabel',\n",
       " 'Atom_Egoyan',\n",
       " 'Atsushi_Sato',\n",
       " 'Audrey_Lacroix',\n",
       " 'Audrey_Sauret',\n",
       " 'Augustin_Calleri',\n",
       " 'Augusto_Pinochet',\n",
       " 'Augusto_Roa_Bastos',\n",
       " 'Aung_San_Suu_Kyi',\n",
       " 'Austin_Kearns',\n",
       " 'Avril_Lavigne',\n",
       " 'Azmi_Bishara',\n",
       " 'Azra_Akin',\n",
       " 'Babe_Ruth',\n",
       " 'Baburam_Bhattari',\n",
       " 'Bak_Chang-Ryun',\n",
       " 'Barbara_Bach',\n",
       " 'Barbara_Becker',\n",
       " 'Barbara_Bodine',\n",
       " 'Barbara_Boxer',\n",
       " 'Barbara_Brezigar',\n",
       " 'Barbara_De_Brun',\n",
       " 'Barbara_Esbin',\n",
       " 'Barbara_Felt-Miller',\n",
       " 'Barbara_Roberts',\n",
       " 'Barbara_Walters',\n",
       " 'Barbora_Strycova',\n",
       " 'Barbra_Streisand',\n",
       " 'Barrett_Jackman',\n",
       " 'Barry_Alvarez',\n",
       " 'Barry_Bonds',\n",
       " 'Barry_Collier',\n",
       " 'Barry_Diller',\n",
       " 'Barry_Ford',\n",
       " 'Barry_Hinson',\n",
       " 'Barry_Nakell',\n",
       " 'Barry_Switzer',\n",
       " 'Barry_Williams',\n",
       " 'Barry_Zito',\n",
       " 'Bartosz_Kizierowski',\n",
       " 'Bart_Freundlich',\n",
       " 'Bart_Hendricks',\n",
       " 'Barzan_al-Tikriti',\n",
       " 'Basdeo_Panday',\n",
       " 'Bashar_Assad',\n",
       " 'Baz_Luhrmann',\n",
       " 'BB_King',\n",
       " 'Beatrice_Dalle',\n",
       " 'Beatriz_Merino',\n",
       " 'Beecher_Ray_Kirby',\n",
       " 'Begum_Khaleda_Zia',\n",
       " 'Bela_Karolyi',\n",
       " 'Benazir_Bhutto',\n",
       " 'Benedita_da_Silva',\n",
       " 'Benicio_Del_Toro',\n",
       " 'Benito_Santiago',\n",
       " 'Benjamin_Bratt',\n",
       " 'Benjamin_Franklin',\n",
       " 'Benjamin_Martinez',\n",
       " 'Benjamin_McKenzie',\n",
       " 'Benjamin_Netanyahu',\n",
       " 'Benjamin_Neulander',\n",
       " 'Ben_Affleck',\n",
       " 'Ben_Betts',\n",
       " 'Ben_Braun',\n",
       " 'Ben_Broussard',\n",
       " 'Ben_Cahoon',\n",
       " 'Ben_Chandler',\n",
       " 'Ben_Cohen',\n",
       " 'Ben_Curtis',\n",
       " 'Ben_Davis',\n",
       " 'Ben_Glisan',\n",
       " 'Ben_Howland',\n",
       " 'Ben_Kingsley',\n",
       " 'Ben_Lee',\n",
       " 'Ben_Stein',\n",
       " 'Ben_Wallace',\n",
       " 'Bernadette_Peters',\n",
       " 'Bernardo_Segura',\n",
       " 'Bernard_Ebbers',\n",
       " 'Bernard_Giraudeau',\n",
       " 'Bernard_Kerik',\n",
       " 'Bernard_Landry',\n",
       " 'Bernard_Law',\n",
       " 'Bernard_Lord',\n",
       " 'Bernard_Siegel',\n",
       " 'Bernice_Wong',\n",
       " 'Bertie_Ahern',\n",
       " 'Bertrand_Bonello',\n",
       " 'Bertrand_Delanoe',\n",
       " 'Beth_Blough',\n",
       " 'Beth_Jones',\n",
       " 'Betsy_Coffin',\n",
       " 'Betsy_Smith',\n",
       " 'Bettina_Rheims',\n",
       " 'Betty_Garrison',\n",
       " 'Betty_Williams',\n",
       " 'Beyonce_Knowles',\n",
       " 'Bianca_Jagger',\n",
       " 'Bijan_Darvish',\n",
       " 'Bijan_Namdar_Zangeneh',\n",
       " 'Bilal_Erdogan',\n",
       " 'Biljana_Plavsic',\n",
       " 'Billy_Andrade',\n",
       " 'Billy_Beane',\n",
       " 'Billy_Bob_Thornton',\n",
       " 'Billy_Boyd',\n",
       " 'Billy_Crawford',\n",
       " 'Billy_Crystal',\n",
       " 'Billy_Donovan',\n",
       " 'Billy_Edelin',\n",
       " 'Billy_Gilman',\n",
       " 'Billy_Graham',\n",
       " 'Billy_Joel',\n",
       " 'Billy_Rork',\n",
       " 'Billy_Sollie',\n",
       " 'Billy_Tibbets',\n",
       " 'Bill_Belichick',\n",
       " 'Bill_Bradley',\n",
       " 'Bill_Butler',\n",
       " 'Bill_Byrne',\n",
       " 'Bill_Callahan',\n",
       " 'Bill_Carmody',\n",
       " 'Bill_Cartwright',\n",
       " 'Bill_Clancy',\n",
       " 'Bill_Clinton',\n",
       " 'Bill_Curry',\n",
       " 'Bill_Doba',\n",
       " 'Bill_Duffey',\n",
       " 'Bill_Elliott',\n",
       " 'Bill_Fennelly',\n",
       " 'Bill_Frist',\n",
       " 'Bill_Gates',\n",
       " 'Bill_Graham',\n",
       " 'Bill_Guerin',\n",
       " 'Bill_Herrion',\n",
       " 'Bill_Hughes',\n",
       " 'Bill_King',\n",
       " 'Bill_Kollar',\n",
       " 'Bill_Kong',\n",
       " 'Bill_Lerach',\n",
       " 'Bill_Maher',\n",
       " 'Bill_Mauldin',\n",
       " 'Bill_McBride',\n",
       " 'Bill_Nelson',\n",
       " 'Bill_OReilly',\n",
       " 'Bill_Parcells',\n",
       " 'Bill_Parsons',\n",
       " 'Bill_Paxton',\n",
       " 'Bill_Pryor',\n",
       " 'Bill_Rainer',\n",
       " 'Bill_Readdy',\n",
       " 'Bill_Richardson',\n",
       " 'Bill_Self',\n",
       " 'Bill_Simon',\n",
       " 'Bill_Sizemore',\n",
       " 'Bill_Stapleton',\n",
       " 'Bill_Stein',\n",
       " 'Bill_Walton',\n",
       " 'Bing_Crosby',\n",
       " 'Binyamin_Ben-Eliezer',\n",
       " 'Bison_Dele',\n",
       " 'Bixente_LIzarazu',\n",
       " 'BJ_Habibie',\n",
       " 'Blas_Ople',\n",
       " 'Blythe_Danner',\n",
       " 'Blythe_Hartley',\n",
       " 'Bobby_Bowden',\n",
       " 'Bobby_Goldwater',\n",
       " 'Bobby_Jackson',\n",
       " 'Bobby_Kielty',\n",
       " 'Bobby_Robson',\n",
       " 'Bobo_Balde',\n",
       " 'Bob_Alper',\n",
       " 'Bob_Beauprez',\n",
       " 'Bob_Bowlsby',\n",
       " 'Bob_Cantrell',\n",
       " 'Bob_Colvin',\n",
       " 'Bob_Crippen',\n",
       " 'Bob_Curtis',\n",
       " 'Bob_Dole',\n",
       " 'Bob_Eskridge',\n",
       " 'Bob_Ferguson',\n",
       " 'Bob_Geldof',\n",
       " 'Bob_Goldman',\n",
       " 'Bob_Graham',\n",
       " 'Bob_Guccione',\n",
       " 'Bob_Hartley',\n",
       " 'Bob_Hayes',\n",
       " 'Bob_Herz',\n",
       " 'Bob_Holden',\n",
       " 'Bob_Hope',\n",
       " 'Bob_Huggins',\n",
       " 'Bob_Iger',\n",
       " 'Bob_Krueger',\n",
       " 'Bob_Melvin',\n",
       " 'Bob_Menendez',\n",
       " 'Bob_Newhart',\n",
       " 'Bob_Petrino',\n",
       " 'Bob_Riley',\n",
       " 'Bob_Stoops',\n",
       " 'Bob_Sulkin',\n",
       " 'Bob_Taft',\n",
       " 'Bob_Wright',\n",
       " 'Bode_Miller',\n",
       " 'Bonnie_Fuller',\n",
       " 'Bonnie_Hunt',\n",
       " 'Bono',\n",
       " 'Boris_Becker',\n",
       " 'Boris_Berezovsky',\n",
       " 'Boris_Henry',\n",
       " 'Boris_Jordan',\n",
       " 'Boris_Trajkovski',\n",
       " 'Boris_Yeltsin',\n",
       " 'Boutros_Boutros_Ghali',\n",
       " 'Bo_Pelini',\n",
       " 'Bo_Ryan',\n",
       " 'Brady_Rodgers',\n",
       " 'Brad_Alexander_Smith',\n",
       " 'Brad_Banks',\n",
       " 'Brad_Brownell',\n",
       " 'Brad_Garrett',\n",
       " 'Brad_Gushue',\n",
       " 'Brad_Johnson',\n",
       " 'Brad_Miller',\n",
       " 'Brad_Pitt',\n",
       " 'Brad_Russ',\n",
       " 'Brad_Smith',\n",
       " 'Brad_Wilk',\n",
       " 'Brajesh_Mishra',\n",
       " 'Brandon_Boyd',\n",
       " 'Brandon_Fails',\n",
       " 'Brandon_Hammond',\n",
       " 'Brandon_Inge',\n",
       " 'Brandon_Jones',\n",
       " 'Brandon_Knight',\n",
       " 'Brandon_Larson',\n",
       " 'Brandon_Lloyd',\n",
       " 'Brandon_Robinson',\n",
       " 'Brandon_Spann',\n",
       " 'Brandon_Webb',\n",
       " 'Branko_Crvenkovski',\n",
       " 'Brawley_King',\n",
       " 'Brendan_Fraser',\n",
       " 'Brendan_Gaughan',\n",
       " 'Brendan_Hansen',\n",
       " 'Brendan_Stai',\n",
       " 'Brenda_Magana',\n",
       " 'Brenda_van_Dam',\n",
       " 'Brenda_Wilson',\n",
       " 'Brennon_Leighton',\n",
       " 'Brent_Coles',\n",
       " 'Brett_Boone',\n",
       " 'Brett_Hawke',\n",
       " 'Brett_Hull',\n",
       " 'Brett_Perry',\n",
       " 'Brian_Billick',\n",
       " 'Brian_Campbell',\n",
       " 'Brian_Cashman',\n",
       " 'Brian_Clemens',\n",
       " 'Brian_Cook',\n",
       " 'Brian_Cowen',\n",
       " 'Brian_De_Palma',\n",
       " 'Brian_Florence',\n",
       " 'Brian_Grazier',\n",
       " 'Brian_Gregory',\n",
       " 'Brian_Griese',\n",
       " 'Brian_Heidik',\n",
       " 'Brian_Henson',\n",
       " 'Brian_Jordan',\n",
       " 'Brian_Kerr',\n",
       " 'Brian_Lara',\n",
       " 'Brian_McIntyre',\n",
       " 'Brian_Meadors',\n",
       " 'Brian_Mulroney',\n",
       " 'Brian_Olson',\n",
       " 'Brian_Pavlich',\n",
       " 'Brian_Scalabrine',\n",
       " 'Brian_Schneider',\n",
       " 'Brian_StPierre',\n",
       " 'Brian_Van_Dusen',\n",
       " 'Brian_Weaver',\n",
       " 'Brian_Wells',\n",
       " 'Brian_Williams',\n",
       " 'Bridgette_Wilson-Sampras',\n",
       " 'Bridget_Fonda',\n",
       " 'Brigitte_Boisselier',\n",
       " 'Britney_Spears',\n",
       " 'Brittany_Snow',\n",
       " 'Brock_Berlin',\n",
       " 'Bronson_Arroyo',\n",
       " 'Brooke_Adams',\n",
       " 'Brooke_Gordon',\n",
       " 'Brooke_Shields',\n",
       " 'Brook_Robinson',\n",
       " 'Bruce_Arena',\n",
       " 'Bruce_Gebhardt',\n",
       " 'Bruce_Lunsford',\n",
       " 'Bruce_Paltrow',\n",
       " 'Bruce_Springsteen',\n",
       " 'Bruce_Van_De_Velde',\n",
       " 'Bruce_Weber',\n",
       " 'Bruce_Willis',\n",
       " 'Bruna_Colosio',\n",
       " 'Bruno_Junquiera',\n",
       " 'Bryant_Young',\n",
       " 'Bryan_Adams',\n",
       " 'Bryan_Chui',\n",
       " 'Bryan_Cooley',\n",
       " 'Bryan_Murray',\n",
       " 'Bryan_Thomas',\n",
       " 'Bryce_Carmine',\n",
       " 'Buck_Rodgers',\n",
       " 'Buddy_Ryan',\n",
       " 'Budd_Schulberg',\n",
       " 'Bud_Selig',\n",
       " 'Buford_Blount',\n",
       " 'Bulent_Ecevit',\n",
       " 'Bustam_A_Zedan_Aljanabi',\n",
       " 'Butch_Davis',\n",
       " 'Buzz_Hargrove',\n",
       " 'Byron_Scott',\n",
       " 'Cabas',\n",
       " 'Caio_Blat',\n",
       " 'Calbert_Cheaney',\n",
       " 'Calista_Flockhart',\n",
       " 'Calvin_Harrison',\n",
       " 'Calvin_Joseph_Coleman',\n",
       " 'Cameron_Diaz',\n",
       " 'Camilla_Parker_Bowles',\n",
       " 'Camille_Colvin',\n",
       " 'Camille_Lewis',\n",
       " 'Camryn_Manheim',\n",
       " 'Candace_Sutton',\n",
       " 'Candice_Beatty',\n",
       " 'Candice_Bergen',\n",
       " 'Candie_Kung',\n",
       " 'Carey_Lowell',\n",
       " 'Carina_Lau_Ka-ling',\n",
       " 'Carin_Koch',\n",
       " 'Cari_Davis',\n",
       " 'Carla_Del_Ponte',\n",
       " 'Carla_Gay_Balingit',\n",
       " 'Carla_Gugino',\n",
       " 'Carla_Moreno',\n",
       " 'Carla_Myers',\n",
       " 'Carla_Sullivan',\n",
       " 'Carla_Tricoli',\n",
       " 'Carlos_Alberto',\n",
       " 'Carlos_Alberto_Parreira',\n",
       " 'Carlos_Arroyo',\n",
       " 'Carlos_Barra',\n",
       " 'Carlos_Barragan',\n",
       " 'Carlos_Beltran',\n",
       " 'Carlos_Bianchi',\n",
       " 'Carlos_De_Abreu',\n",
       " 'Carlos_Fasciolo',\n",
       " 'Carlos_Ghosn',\n",
       " 'Carlos_Iturgaitz',\n",
       " 'Carlos_Juarez',\n",
       " 'Carlos_Lordkipanitse',\n",
       " 'Carlos_Manuel_Pruneda',\n",
       " 'Carlos_Menem',\n",
       " 'Carlos_Mesa',\n",
       " 'Carlos_Moya',\n",
       " 'Carlos_Ortega',\n",
       " 'Carlos_Paternina',\n",
       " 'Carlos_Queiroz',\n",
       " 'Carlos_Quintanilla_Schmidt',\n",
       " 'Carlos_Ruckauf',\n",
       " 'Carlos_Ruiz',\n",
       " 'Carlos_Salinas',\n",
       " 'Carlos_Savedra',\n",
       " 'Carlos_Vives',\n",
       " 'Carlo_Ancelotti',\n",
       " 'Carlo_Azeglio_Ciampi',\n",
       " 'Carlton_Baugh',\n",
       " 'Carlton_Dotson',\n",
       " 'Carly_Fiorina',\n",
       " 'Carly_Gullickson',\n",
       " 'Carl_Levin',\n",
       " 'Carl_Pope',\n",
       " 'Carl_Reiner',\n",
       " 'Carmen_Electra',\n",
       " 'Carolina_Barco',\n",
       " 'Carolina_Kluft',\n",
       " 'Carolina_Moraes',\n",
       " 'Caroline_Dhavernas',\n",
       " 'Caroline_Kennedy',\n",
       " 'Caroline_Link',\n",
       " 'Carolyn_Dawn_Johnson',\n",
       " 'Carolyn_Kuhl',\n",
       " 'Carol_Burnett',\n",
       " 'Carol_Carmody',\n",
       " 'Carol_Moseley_Braun',\n",
       " 'Carol_Niedermayer',\n",
       " 'Carol_Williams',\n",
       " 'Carrie-Anne_Moss',\n",
       " 'Carroll_Weimer',\n",
       " 'Carson_Daly',\n",
       " 'Carson_Palmer',\n",
       " 'Casey_Crowder',\n",
       " 'Casey_Mears',\n",
       " 'Cassandra_Heise',\n",
       " 'Cass_Ballenger',\n",
       " 'Casy_Preslar',\n",
       " 'Cate_Blanchett',\n",
       " 'Catherine_Bell',\n",
       " 'Catherine_Deneuve',\n",
       " 'Catherine_Donkers',\n",
       " 'Catherine_Ndereba',\n",
       " 'Catherine_Woodard',\n",
       " 'Catherine_Zeta-Jones',\n",
       " 'Cathryn_Crawford',\n",
       " 'Cathy_Chisholm',\n",
       " 'Cathy_Cunningham',\n",
       " 'Cathy_Freeman',\n",
       " 'Catriona_Le_May_Doan',\n",
       " 'Cecile_de_France',\n",
       " 'Cecilia_Bolocco',\n",
       " 'Cecilia_Chang',\n",
       " 'Cecilia_Cheung',\n",
       " 'Cedric_Benson',\n",
       " 'Celia_Cruz',\n",
       " 'Celine_Dion',\n",
       " 'Celso_Amorim',\n",
       " 'Celso_Lafer',\n",
       " 'Cemil_Cicek',\n",
       " 'Cesar_Gaviria',\n",
       " 'Cesar_Maia',\n",
       " 'Chadha_Gurinder',\n",
       " 'Chakib_Khelil',\n",
       " 'Chance_Mock',\n",
       " 'Chanda_Rubin',\n",
       " 'Chandrika_Kumaratunga',\n",
       " 'Chang_Dae-whan',\n",
       " 'Chang_Jae_On',\n",
       " 'Chang_Saio-yue',\n",
       " 'Chang_Sang',\n",
       " 'Chang_Tso',\n",
       " 'Chante_Jawan_Mallard',\n",
       " 'Chan_Choi',\n",
       " 'Chan_Gailey',\n",
       " 'Chan_Ho_Park',\n",
       " 'Charla_Moye',\n",
       " 'Charlene_Barshefsky',\n",
       " 'Charles_Bell',\n",
       " 'Charles_Bronson',\n",
       " 'Charles_Chandler_IV',\n",
       " 'Charles_Cope',\n",
       " 'Charles_Grassley',\n",
       " 'Charles_Holzner',\n",
       " 'Charles_Ingram',\n",
       " 'Charles_Kartman',\n",
       " 'Charles_Lebois',\n",
       " 'Charles_Mathews',\n",
       " 'Charles_Moose',\n",
       " 'Charles_Pickering',\n",
       " 'Charles_Pouty',\n",
       " 'Charles_Richardson',\n",
       " 'Charles_Rogers',\n",
       " 'Charles_Schumer',\n",
       " 'Charles_Tannok',\n",
       " 'Charles_Taylor',\n",
       " 'Charley_Armey',\n",
       " 'Charlie_Coles',\n",
       " 'Charlie_Deane',\n",
       " 'Charlie_Garner',\n",
       " 'Charlie_Hunnam',\n",
       " 'Charlie_Sheen',\n",
       " 'Charlie_Williams',\n",
       " 'Charlie_Zaa',\n",
       " 'Charlize_Theron',\n",
       " 'Charlotte_Casiraghi',\n",
       " 'Charlotte_Chambers',\n",
       " 'Charlotte_Church',\n",
       " 'Charlotte_Rampling',\n",
       " 'Charlton_Heston',\n",
       " 'Charmaine_Crooks',\n",
       " 'Chawki_Armali',\n",
       " 'Cha_Yung-gu',\n",
       " 'Chea_Sophara',\n",
       " 'Chelsea_Clinton',\n",
       " 'Chen_Kaige',\n",
       " 'Chen_Liang_Yu',\n",
       " 'Chen_Shui-bian',\n",
       " 'Chen_Tsai-chin',\n",
       " 'Cherie_Blair',\n",
       " 'Cherry_Jones',\n",
       " 'Cheryl_Ford',\n",
       " 'Cheryl_Hines',\n",
       " 'Cheryl_James',\n",
       " 'Cheryl_Little',\n",
       " 'Cheryl_Tiegs',\n",
       " 'Chhouk_Rin',\n",
       " 'Chick_Hearn',\n",
       " 'Chin-Feng_Chen',\n",
       " 'Chin-Hui_Tsao',\n",
       " 'Chip_Burrus',\n",
       " 'Chip_Ganassi',\n",
       " 'Chip_Knight',\n",
       " 'Chistian_Stahl',\n",
       " 'Chita_Rivera',\n",
       " 'Chloe_Sevigny',\n",
       " 'Choi_Sung-hong',\n",
       " 'Choi_Yun-yong',\n",
       " 'Chok_Tong_Goh',\n",
       " 'Cho_Myung-kyun',\n",
       " 'Christiane_Wulff',\n",
       " 'Christian_Bale',\n",
       " 'Christian_Fittipaldi',\n",
       " 'Christian_Gimenez',\n",
       " 'Christian_Lacroix',\n",
       " 'Christian_Lirette',\n",
       " 'Christian_Longo',\n",
       " 'Christian_Malcolm',\n",
       " 'Christian_Olsson',\n",
       " 'Christian_Patino',\n",
       " 'Christian_Von_Wernich',\n",
       " 'Christian_Wulff',\n",
       " 'Christina_Aguilera',\n",
       " 'Christina_Sawaya',\n",
       " 'Christine_Arron',\n",
       " 'Christine_Baumgartner',\n",
       " 'Christine_Ebersole',\n",
       " 'Christine_Gregoire',\n",
       " 'Christine_Rau',\n",
       " 'Christine_Todd_Whitman',\n",
       " 'Christopher_Amolsch',\n",
       " 'Christopher_Conyers',\n",
       " 'Christopher_Matero',\n",
       " 'Christopher_Patten',\n",
       " 'Christopher_Reeve',\n",
       " 'Christopher_Russell',\n",
       " 'Christopher_Speer',\n",
       " 'Christopher_Walken',\n",
       " 'Christopher_Whittle',\n",
       " 'Christoph_Daum',\n",
       " 'Christy_Ferer',\n",
       " 'Christy_Turlington',\n",
       " 'Chris_Andrews',\n",
       " 'Chris_Bell',\n",
       " 'Chris_Byrd',\n",
       " 'Chris_Cirino',\n",
       " 'Chris_Claiborne',\n",
       " 'Chris_Columbus',\n",
       " 'Chris_Cookson',\n",
       " 'Chris_Cooper',\n",
       " 'Chris_Cornell',\n",
       " 'Chris_Crocker',\n",
       " 'Chris_Dodd',\n",
       " 'Chris_Forsyth',\n",
       " 'Chris_Gratton',\n",
       " 'Chris_Hernandez',\n",
       " 'Chris_Klein',\n",
       " 'Chris_Kolanas',\n",
       " 'Chris_Matthews',\n",
       " 'Chris_Moore',\n",
       " 'Chris_Neil',\n",
       " 'Chris_Noth',\n",
       " 'Chris_Penn',\n",
       " 'Chris_Pronger',\n",
       " 'Chris_Reitsma',\n",
       " 'Chris_Rock',\n",
       " 'Chris_Simon',\n",
       " 'Chris_Swecker',\n",
       " 'Chris_Terry',\n",
       " 'Chris_Thomas',\n",
       " 'Chris_Tucker',\n",
       " 'Chris_Whitney',\n",
       " 'Chuanyun_Li',\n",
       " 'Chuck_Amato',\n",
       " 'Chuck_Bednarik',\n",
       " 'Chuck_Eidson',\n",
       " 'Chuck_Finley',\n",
       " 'Chuck_Hagel',\n",
       " 'Chuck_Woolery',\n",
       " 'Chuck_Yeager',\n",
       " 'Chung_Mong-hun',\n",
       " 'Chung_Mong-joon',\n",
       " 'Chyung_Dai-chul',\n",
       " ...]"
      ]
     },
     "execution_count": 15,
     "metadata": {},
     "output_type": "execute_result"
    }
   ],
   "source": [
    "os.listdir('lfw')"
   ]
  },
  {
   "cell_type": "code",
   "execution_count": 16,
   "metadata": {},
   "outputs": [
    {
     "data": {
      "text/plain": [
       "'data\\\\anchor\\\\94bdc67b-234c-11ef-96cc-145afc91039c.jpg'"
      ]
     },
     "execution_count": 16,
     "metadata": {},
     "output_type": "execute_result"
    }
   ],
   "source": [
    "# Import uuid library to generate unique image names\n",
    "import uuid\n",
    "os.path.join(ANC_PATH, '{}.jpg'.format(uuid.uuid1()))"
   ]
  },
  {
   "cell_type": "code",
   "execution_count": 44,
   "metadata": {},
   "outputs": [],
   "source": [
    "# Establish a connection to the webcam\n",
    "cap = cv2.VideoCapture(0)\n",
    "while cap.isOpened(): \n",
    "    ret, frame = cap.read()\n",
    "   \n",
    "    # Cut down frame to 250x250px\n",
    "    frame = frame[120:120+250,200:200+250, :]\n",
    "    \n",
    "    # Collect anchors \n",
    "    if cv2.waitKey(1) & 0XFF == ord('a'):\n",
    "        # Create the unique file path \n",
    "        imgname = os.path.join(ANC_PATH, '{}.jpg'.format(uuid.uuid1()))\n",
    "        # Write out anchor image\n",
    "        cv2.imwrite(imgname, frame)\n",
    "    \n",
    "    # Collect positives\n",
    "    if cv2.waitKey(1) & 0XFF == ord('p'):\n",
    "        # Create the unique file path \n",
    "        imgname = os.path.join(POS_PATH, '{}.jpg'.format(uuid.uuid1()))\n",
    "        # Write out positive image\n",
    "        cv2.imwrite(imgname, frame)\n",
    "    \n",
    "    # Show image back to screen\n",
    "    cv2.imshow('Image Collection', frame)\n",
    "    \n",
    "    # Breaking gracefully\n",
    "    if cv2.waitKey(1) & 0XFF == ord('q'):\n",
    "        break\n",
    "        \n",
    "# Release the webcam\n",
    "cap.release()\n",
    "# Close the image show frame\n",
    "cv2.destroyAllWindows()"
   ]
  },
  {
   "cell_type": "code",
   "execution_count": 45,
   "metadata": {},
   "outputs": [
    {
     "data": {
      "text/plain": [
       "<matplotlib.image.AxesImage at 0x21b1593e730>"
      ]
     },
     "execution_count": 45,
     "metadata": {},
     "output_type": "execute_result"
    },
    {
     "data": {
      "image/png": "[encoded data removed]",
      "text/plain": [
       "<Figure size 640x480 with 1 Axes>"
      ]
     },
     "metadata": {},
     "output_type": "display_data"
    }
   ],
   "source": [
    "plt.imshow(frame[:250,:250, :])"
   ]
  },
  {
   "cell_type": "code",
   "execution_count": 37,
   "metadata": {},
   "outputs": [
    {
     "data": {
      "text/plain": [
       "(250, 250, 3)"
      ]
     },
     "execution_count": 37,
     "metadata": {},
     "output_type": "execute_result"
    }
   ],
   "source": [
    "frame.shape"
   ]
  },
  {
   "cell_type": "markdown",
   "metadata": {},
   "source": [
    "Load image and Process\n"
   ]
  },
  {
   "cell_type": "code",
   "execution_count": 49,
   "metadata": {},
   "outputs": [],
   "source": [
    "anchor = tf.data.Dataset.list_files(ANC_PATH+'\\*.jpg').take(300)\n",
    "positive = tf.data.Dataset.list_files(POS_PATH+'\\*.jpg').take(300)\n",
    "negative = tf.data.Dataset.list_files(NEG_PATH+'\\*.jpg').take(300)"
   ]
  },
  {
   "cell_type": "code",
   "execution_count": 50,
   "metadata": {},
   "outputs": [
    {
     "name": "stdout",
     "output_type": "stream",
     "text": [
      "b'data\\\\anchor\\\\47909c5f-234f-11ef-bd1e-145afc91039c.jpg'\n"
     ]
    }
   ],
   "source": [
    "dir_test = anchor.as_numpy_iterator()\n",
    "print(dir_test.next())"
   ]
  },
  {
   "cell_type": "markdown",
   "metadata": {},
   "source": [
    "Preprocessing the image\n"
   ]
  },
  {
   "cell_type": "code",
   "execution_count": 51,
   "metadata": {},
   "outputs": [],
   "source": [
    "def preprocess(file_path):\n",
    "    \n",
    "    # Read in image from file path\n",
    "    byte_img = tf.io.read_file(file_path)\n",
    "    # Load in the image \n",
    "    img = tf.io.decode_jpeg(byte_img)\n",
    "    \n",
    "    # Preprocessing steps - resizing the image to be 100x100x3\n",
    "    img = tf.image.resize(img, (100,100))\n",
    "    # Scale image to be between 0 and 1 \n",
    "    img = img / 255.0\n",
    "\n",
    "    # Return image\n",
    "    return img"
   ]
  },
  {
   "cell_type": "code",
   "execution_count": 56,
   "metadata": {},
   "outputs": [
    {
     "data": {
      "text/plain": [
       "0.95416665"
      ]
     },
     "execution_count": 56,
     "metadata": {},
     "output_type": "execute_result"
    }
   ],
   "source": [
    "img = preprocess('data\\\\anchor\\\\4a79cb56-234f-11ef-94d2-145afc91039c.jpg')\n",
    "img.numpy().max() \n"
   ]
  },
  {
   "cell_type": "code",
   "execution_count": 57,
   "metadata": {},
   "outputs": [
    {
     "ename": "NameError",
     "evalue": "name 'dataset' is not defined",
     "output_type": "error",
     "traceback": [
      "\u001b[1;31m---------------------------------------------------------------------------\u001b[0m",
      "\u001b[1;31mNameError\u001b[0m                                 Traceback (most recent call last)",
      "Cell \u001b[1;32mIn[57], line 1\u001b[0m\n\u001b[1;32m----> 1\u001b[0m \u001b[43mdataset\u001b[49m\u001b[38;5;241m.\u001b[39mmap(preprocess)\n",
      "\u001b[1;31mNameError\u001b[0m: name 'dataset' is not defined"
     ]
    }
   ],
   "source": [
    "# dataset.map(preprocess)"
   ]
  },
  {
   "cell_type": "code",
   "execution_count": 58,
   "metadata": {},
   "outputs": [
    {
     "data": {
      "text/plain": [
       "<matplotlib.image.AxesImage at 0x21b15e29d90>"
      ]
     },
     "execution_count": 58,
     "metadata": {},
     "output_type": "execute_result"
    },
    {
     "data": {
      "image/png": "[encoded data removed]",
      "text/plain": [
       "<Figure size 640x480 with 1 Axes>"
      ]
     },
     "metadata": {},
     "output_type": "display_data"
    }
   ],
   "source": [
    "plt.imshow(img)"
   ]
  },
  {
   "cell_type": "markdown",
   "metadata": {},
   "source": [
    "Create labelled dataset"
   ]
  },
  {
   "cell_type": "code",
   "execution_count": 59,
   "metadata": {},
   "outputs": [],
   "source": [
    "positives = tf.data.Dataset.zip((anchor, positive, tf.data.Dataset.from_tensor_slices(tf.ones(len(anchor)))))\n",
    "negatives = tf.data.Dataset.zip((anchor, negative, tf.data.Dataset.from_tensor_slices(tf.zeros(len(anchor)))))\n",
    "data = positives.concatenate(negatives)"
   ]
  },
  {
   "cell_type": "code",
   "execution_count": 60,
   "metadata": {},
   "outputs": [
    {
     "data": {
      "text/plain": [
       "(b'data\\\\anchor\\\\4f671484-234f-11ef-a58b-145afc91039c.jpg',\n",
       " b'data\\\\positive\\\\c3ebe735-234f-11ef-b99e-145afc91039c.jpg',\n",
       " 1.0)"
      ]
     },
     "execution_count": 60,
     "metadata": {},
     "output_type": "execute_result"
    }
   ],
   "source": [
    "samples = data.as_numpy_iterator()\n",
    "exampple = samples.next()\n",
    "exampple"
   ]
  },
  {
   "cell_type": "markdown",
   "metadata": {},
   "source": [
    "Build Train and Test Partition"
   ]
  },
  {
   "cell_type": "code",
   "execution_count": 61,
   "metadata": {},
   "outputs": [],
   "source": [
    "def preprocess_twin(input_img, validation_img, label):\n",
    "    return(preprocess(input_img), preprocess(validation_img), label)"
   ]
  },
  {
   "cell_type": "code",
   "execution_count": 62,
   "metadata": {},
   "outputs": [],
   "source": [
    "res = preprocess_twin(*exampple)"
   ]
  },
  {
   "cell_type": "code",
   "execution_count": 64,
   "metadata": {},
   "outputs": [
    {
     "data": {
      "text/plain": [
       "<matplotlib.image.AxesImage at 0x21b15e9d1c0>"
      ]
     },
     "execution_count": 64,
     "metadata": {},
     "output_type": "execute_result"
    },
    {
     "data": {
      "image/png": "[encoded data removed]",
      "text/plain": [
       "<Figure size 640x480 with 1 Axes>"
      ]
     },
     "metadata": {},
     "output_type": "display_data"
    }
   ],
   "source": [
    "plt.imshow(res[1])"
   ]
  },
  {
   "cell_type": "code",
   "execution_count": 69,
   "metadata": {},
   "outputs": [
    {
     "data": {
      "text/plain": [
       "1.0"
      ]
     },
     "execution_count": 69,
     "metadata": {},
     "output_type": "execute_result"
    }
   ],
   "source": [
    "res[2]"
   ]
  },
  {
   "cell_type": "code",
   "execution_count": 70,
   "metadata": {},
   "outputs": [],
   "source": [
    "# Build dataloader pipeline\n",
    "data = data.map(preprocess_twin)\n",
    "data = data.cache()\n",
    "data = data.shuffle(buffer_size=10000)"
   ]
  },
  {
   "cell_type": "code",
   "execution_count": 71,
   "metadata": {},
   "outputs": [],
   "source": [
    "# Training partition\n",
    "train_data = data.take(round(len(data)*.7))\n",
    "train_data = train_data.batch(16)\n",
    "train_data = train_data.prefetch(8)"
   ]
  },
  {
   "cell_type": "code",
   "execution_count": 72,
   "metadata": {},
   "outputs": [],
   "source": [
    "# Testing partition\n",
    "test_data = data.skip(round(len(data)*.7))\n",
    "test_data = test_data.take(round(len(data)*.3))\n",
    "test_data = test_data.batch(16)\n",
    "test_data = test_data.prefetch(8)"
   ]
  },
  {
   "cell_type": "markdown",
   "metadata": {},
   "source": []
  },
  {
   "cell_type": "markdown",
   "metadata": {},
   "source": [
    "Model Engineering"
   ]
  },
  {
   "cell_type": "code",
   "execution_count": 74,
   "metadata": {},
   "outputs": [],
   "source": [
    "inp = Input(shape=(100,100,3), name='input_image')\n",
    "c1 = Conv2D(64, (10,10), activation='relu')(inp)\n",
    "m1 = MaxPooling2D(64, (2,2), padding='same')(c1)"
   ]
  },
  {
   "cell_type": "code",
   "execution_count": 75,
   "metadata": {},
   "outputs": [],
   "source": [
    "c2 = Conv2D(128, (7,7), activation='relu')(m1)\n",
    "m2 = MaxPooling2D(64, (2,2), padding='same')(c2)"
   ]
  },
  {
   "cell_type": "code",
   "execution_count": 76,
   "metadata": {},
   "outputs": [],
   "source": [
    "c3 = Conv2D(128, (4,4), activation='relu')(m2)\n",
    "m3 = MaxPooling2D(64, (2,2), padding='same')(c3)"
   ]
  },
  {
   "cell_type": "code",
   "execution_count": 77,
   "metadata": {},
   "outputs": [],
   "source": [
    "c4 = Conv2D(256, (4,4), activation='relu')(m3)\n",
    "f1 = Flatten()(c4)\n",
    "d1 = Dense(4096, activation='sigmoid')(f1)"
   ]
  },
  {
   "cell_type": "code",
   "execution_count": 78,
   "metadata": {},
   "outputs": [],
   "source": [
    "mod = Model(inputs=[inp], outputs=[d1], name='embedding')"
   ]
  },
  {
   "cell_type": "code",
   "execution_count": 79,
   "metadata": {},
   "outputs": [
    {
     "name": "stdout",
     "output_type": "stream",
     "text": [
      "Model: \"embedding\"\n",
      "_________________________________________________________________\n",
      " Layer (type)                Output Shape              Param #   \n",
      "=================================================================\n",
      " input_image (InputLayer)    [(None, 100, 100, 3)]     0         \n",
      "                                                                 \n",
      " conv2d_1 (Conv2D)           (None, 91, 91, 64)        19264     \n",
      "                                                                 \n",
      " max_pooling2d (MaxPooling2  (None, 46, 46, 64)        0         \n",
      " D)                                                              \n",
      "                                                                 \n",
      " conv2d_2 (Conv2D)           (None, 40, 40, 128)       401536    \n",
      "                                                                 \n",
      " max_pooling2d_1 (MaxPoolin  (None, 20, 20, 128)       0         \n",
      " g2D)                                                            \n",
      "                                                                 \n",
      " conv2d_3 (Conv2D)           (None, 17, 17, 128)       262272    \n",
      "                                                                 \n",
      " max_pooling2d_2 (MaxPoolin  (None, 9, 9, 128)         0         \n",
      " g2D)                                                            \n",
      "                                                                 \n",
      " conv2d_4 (Conv2D)           (None, 6, 6, 256)         524544    \n",
      "                                                                 \n",
      " flatten (Flatten)           (None, 9216)              0         \n",
      "                                                                 \n",
      " dense (Dense)               (None, 4096)              37752832  \n",
      "                                                                 \n",
      "=================================================================\n",
      "Total params: 38960448 (148.62 MB)\n",
      "Trainable params: 38960448 (148.62 MB)\n",
      "Non-trainable params: 0 (0.00 Byte)\n",
      "_________________________________________________________________\n"
     ]
    }
   ],
   "source": [
    "mod.summary()"
   ]
  },
  {
   "cell_type": "code",
   "execution_count": 80,
   "metadata": {},
   "outputs": [],
   "source": [
    "def make_embedding(): \n",
    "    inp = Input(shape=(100,100,3), name='input_image')\n",
    "    \n",
    "    # First block\n",
    "    c1 = Conv2D(64, (10,10), activation='relu')(inp)\n",
    "    m1 = MaxPooling2D(64, (2,2), padding='same')(c1)\n",
    "    \n",
    "    # Second block\n",
    "    c2 = Conv2D(128, (7,7), activation='relu')(m1)\n",
    "    m2 = MaxPooling2D(64, (2,2), padding='same')(c2)\n",
    "    \n",
    "    # Third block \n",
    "    c3 = Conv2D(128, (4,4), activation='relu')(m2)\n",
    "    m3 = MaxPooling2D(64, (2,2), padding='same')(c3)\n",
    "    \n",
    "    # Final embedding block\n",
    "    c4 = Conv2D(256, (4,4), activation='relu')(m3)\n",
    "    f1 = Flatten()(c4)\n",
    "    d1 = Dense(4096, activation='sigmoid')(f1)\n",
    "    \n",
    "    \n",
    "    return Model(inputs=[inp], outputs=[d1], name='embedding')"
   ]
  },
  {
   "cell_type": "code",
   "execution_count": 81,
   "metadata": {},
   "outputs": [],
   "source": [
    "\n",
    "embedding = make_embedding()"
   ]
  },
  {
   "cell_type": "code",
   "execution_count": 82,
   "metadata": {},
   "outputs": [
    {
     "name": "stdout",
     "output_type": "stream",
     "text": [
      "Model: \"embedding\"\n",
      "_________________________________________________________________\n",
      " Layer (type)                Output Shape              Param #   \n",
      "=================================================================\n",
      " input_image (InputLayer)    [(None, 100, 100, 3)]     0         \n",
      "                                                                 \n",
      " conv2d_5 (Conv2D)           (None, 91, 91, 64)        19264     \n",
      "                                                                 \n",
      " max_pooling2d_3 (MaxPoolin  (None, 46, 46, 64)        0         \n",
      " g2D)                                                            \n",
      "                                                                 \n",
      " conv2d_6 (Conv2D)           (None, 40, 40, 128)       401536    \n",
      "                                                                 \n",
      " max_pooling2d_4 (MaxPoolin  (None, 20, 20, 128)       0         \n",
      " g2D)                                                            \n",
      "                                                                 \n",
      " conv2d_7 (Conv2D)           (None, 17, 17, 128)       262272    \n",
      "                                                                 \n",
      " max_pooling2d_5 (MaxPoolin  (None, 9, 9, 128)         0         \n",
      " g2D)                                                            \n",
      "                                                                 \n",
      " conv2d_8 (Conv2D)           (None, 6, 6, 256)         524544    \n",
      "                                                                 \n",
      " flatten_1 (Flatten)         (None, 9216)              0         \n",
      "                                                                 \n",
      " dense_1 (Dense)             (None, 4096)              37752832  \n",
      "                                                                 \n",
      "=================================================================\n",
      "Total params: 38960448 (148.62 MB)\n",
      "Trainable params: 38960448 (148.62 MB)\n",
      "Non-trainable params: 0 (0.00 Byte)\n",
      "_________________________________________________________________\n"
     ]
    }
   ],
   "source": [
    "embedding.summary()"
   ]
  },
  {
   "cell_type": "markdown",
   "metadata": {},
   "source": [
    "Build Distance layer"
   ]
  },
  {
   "cell_type": "code",
   "execution_count": 83,
   "metadata": {},
   "outputs": [],
   "source": [
    "# Siamese L1 Distance class\n",
    "class L1Dist(Layer):\n",
    "    \n",
    "    # Init method - inheritance\n",
    "    def __init__(self, **kwargs):\n",
    "        super().__init__()\n",
    "       \n",
    "    # Magic happens here - similarity calculation\n",
    "    def call(self, input_embedding, validation_embedding):\n",
    "        return tf.math.abs(input_embedding - validation_embedding)"
   ]
  },
  {
   "cell_type": "code",
   "execution_count": 84,
   "metadata": {},
   "outputs": [],
   "source": [
    "l1 = L1Dist()"
   ]
  },
  {
   "cell_type": "code",
   "execution_count": 90,
   "metadata": {},
   "outputs": [
    {
     "data": {
      "text/plain": [
       "<__main__.L1Dist at 0x21b160cc2b0>"
      ]
     },
     "execution_count": 90,
     "metadata": {},
     "output_type": "execute_result"
    }
   ],
   "source": [
    "l1"
   ]
  },
  {
   "cell_type": "markdown",
   "metadata": {},
   "source": [
    "Make Siamese Model"
   ]
  },
  {
   "cell_type": "code",
   "execution_count": 91,
   "metadata": {},
   "outputs": [],
   "source": [
    "input_image = Input(name='input_img', shape=(100,100,3))\n",
    "validation_image = Input(name='validation_img', shape=(100,100,3))"
   ]
  },
  {
   "cell_type": "code",
   "execution_count": 92,
   "metadata": {},
   "outputs": [],
   "source": [
    "inp_embedding = embedding(input_image)\n",
    "val_embedding = embedding(validation_image)"
   ]
  },
  {
   "cell_type": "code",
   "execution_count": 93,
   "metadata": {},
   "outputs": [],
   "source": [
    "siamese_layer = L1Dist()"
   ]
  },
  {
   "cell_type": "code",
   "execution_count": 94,
   "metadata": {},
   "outputs": [],
   "source": [
    "distances = siamese_layer(inp_embedding, val_embedding)"
   ]
  },
  {
   "cell_type": "code",
   "execution_count": 95,
   "metadata": {},
   "outputs": [
    {
     "data": {
      "text/plain": [
       "<KerasTensor: shape=(None, 1) dtype=float32 (created by layer 'dense_2')>"
      ]
     },
     "execution_count": 95,
     "metadata": {},
     "output_type": "execute_result"
    }
   ],
   "source": [
    "classifier = Dense(1, activation='sigmoid')(distances)\n",
    "classifier"
   ]
  },
  {
   "cell_type": "code",
   "execution_count": 96,
   "metadata": {},
   "outputs": [],
   "source": [
    "\n",
    "siamese_network = Model(inputs=[input_image, validation_image], outputs=classifier, name='SiameseNetwork')"
   ]
  },
  {
   "cell_type": "code",
   "execution_count": 97,
   "metadata": {},
   "outputs": [
    {
     "name": "stdout",
     "output_type": "stream",
     "text": [
      "Model: \"SiameseNetwork\"\n",
      "__________________________________________________________________________________________________\n",
      " Layer (type)                Output Shape                 Param #   Connected to                  \n",
      "==================================================================================================\n",
      " input_img (InputLayer)      [(None, 100, 100, 3)]        0         []                            \n",
      "                                                                                                  \n",
      " validation_img (InputLayer  [(None, 100, 100, 3)]        0         []                            \n",
      " )                                                                                                \n",
      "                                                                                                  \n",
      " embedding (Functional)      (None, 4096)                 3896044   ['input_img[0][0]',           \n",
      "                                                          8          'validation_img[0][0]']      \n",
      "                                                                                                  \n",
      " l1_dist_1 (L1Dist)          (None, 4096)                 0         ['embedding[0][0]',           \n",
      "                                                                     'embedding[1][0]']           \n",
      "                                                                                                  \n",
      " dense_2 (Dense)             (None, 1)                    4097      ['l1_dist_1[0][0]']           \n",
      "                                                                                                  \n",
      "==================================================================================================\n",
      "Total params: 38964545 (148.64 MB)\n",
      "Trainable params: 38964545 (148.64 MB)\n",
      "Non-trainable params: 0 (0.00 Byte)\n",
      "__________________________________________________________________________________________________\n"
     ]
    }
   ],
   "source": [
    "siamese_network.summary()"
   ]
  },
  {
   "cell_type": "code",
   "execution_count": 98,
   "metadata": {},
   "outputs": [],
   "source": [
    "def make_siamese_model(): \n",
    "    \n",
    "    # Anchor image input in the network\n",
    "    input_image = Input(name='input_img', shape=(100,100,3))\n",
    "    \n",
    "    # Validation image in the network \n",
    "    validation_image = Input(name='validation_img', shape=(100,100,3))\n",
    "    \n",
    "    # Combine siamese distance components\n",
    "    siamese_layer = L1Dist()\n",
    "    siamese_layer._name = 'distance'\n",
    "    distances = siamese_layer(embedding(input_image), embedding(validation_image))\n",
    "    \n",
    "    # Classification layer \n",
    "    classifier = Dense(1, activation='sigmoid')(distances)\n",
    "    \n",
    "    return Model(inputs=[input_image, validation_image], outputs=classifier, name='SiameseNetwork')"
   ]
  },
  {
   "cell_type": "code",
   "execution_count": 99,
   "metadata": {},
   "outputs": [],
   "source": [
    "siamese_model = make_siamese_model()"
   ]
  },
  {
   "cell_type": "code",
   "execution_count": 100,
   "metadata": {},
   "outputs": [
    {
     "name": "stdout",
     "output_type": "stream",
     "text": [
      "Model: \"SiameseNetwork\"\n",
      "__________________________________________________________________________________________________\n",
      " Layer (type)                Output Shape                 Param #   Connected to                  \n",
      "==================================================================================================\n",
      " input_img (InputLayer)      [(None, 100, 100, 3)]        0         []                            \n",
      "                                                                                                  \n",
      " validation_img (InputLayer  [(None, 100, 100, 3)]        0         []                            \n",
      " )                                                                                                \n",
      "                                                                                                  \n",
      " embedding (Functional)      (None, 4096)                 3896044   ['input_img[0][0]',           \n",
      "                                                          8          'validation_img[0][0]']      \n",
      "                                                                                                  \n",
      " distance (L1Dist)           (None, 4096)                 0         ['embedding[2][0]',           \n",
      "                                                                     'embedding[3][0]']           \n",
      "                                                                                                  \n",
      " dense_3 (Dense)             (None, 1)                    4097      ['distance[0][0]']            \n",
      "                                                                                                  \n",
      "==================================================================================================\n",
      "Total params: 38964545 (148.64 MB)\n",
      "Trainable params: 38964545 (148.64 MB)\n",
      "Non-trainable params: 0 (0.00 Byte)\n",
      "__________________________________________________________________________________________________\n"
     ]
    }
   ],
   "source": [
    "siamese_model.summary()"
   ]
  },
  {
   "cell_type": "markdown",
   "metadata": {},
   "source": [
    "Training"
   ]
  },
  {
   "cell_type": "markdown",
   "metadata": {},
   "source": []
  },
  {
   "cell_type": "code",
   "execution_count": 101,
   "metadata": {},
   "outputs": [],
   "source": [
    "binary_cross_loss = tf.losses.BinaryCrossentropy()\n",
    "\n",
    "opt = tf.keras.optimizers.Adam(1e-4) # 0.0001"
   ]
  },
  {
   "cell_type": "code",
   "execution_count": 102,
   "metadata": {},
   "outputs": [],
   "source": [
    "checkpoint_dir = './training_checkpoints'\n",
    "checkpoint_prefix = os.path.join(checkpoint_dir, 'ckpt')\n",
    "checkpoint = tf.train.Checkpoint(opt=opt, siamese_model=siamese_model)"
   ]
  },
  {
   "cell_type": "code",
   "execution_count": 103,
   "metadata": {},
   "outputs": [],
   "source": [
    "test_batch = train_data.as_numpy_iterator()\n",
    "batch_1 = test_batch.next()\n",
    "X = batch_1[:2]\n",
    "y = batch_1[2]"
   ]
  },
  {
   "cell_type": "code",
   "execution_count": 104,
   "metadata": {},
   "outputs": [
    {
     "data": {
      "text/plain": [
       "array([0., 0., 0., 0., 1., 0., 0., 0., 0., 1., 1., 0., 0., 0., 0., 1.],\n",
       "      dtype=float32)"
      ]
     },
     "execution_count": 104,
     "metadata": {},
     "output_type": "execute_result"
    }
   ],
   "source": [
    "y"
   ]
  },
  {
   "cell_type": "code",
   "execution_count": 105,
   "metadata": {},
   "outputs": [
    {
     "name": "stdout",
     "output_type": "stream",
     "text": [
      "\u001b[1;31mInit signature:\u001b[0m\n",
      "\u001b[0mtf\u001b[0m\u001b[1;33m.\u001b[0m\u001b[0mlosses\u001b[0m\u001b[1;33m.\u001b[0m\u001b[0mBinaryCrossentropy\u001b[0m\u001b[1;33m(\u001b[0m\u001b[1;33m\n",
      "\u001b[0m    \u001b[0mfrom_logits\u001b[0m\u001b[1;33m=\u001b[0m\u001b[1;32mFalse\u001b[0m\u001b[1;33m,\u001b[0m\u001b[1;33m\n",
      "\u001b[0m    \u001b[0mlabel_smoothing\u001b[0m\u001b[1;33m=\u001b[0m\u001b[1;36m0.0\u001b[0m\u001b[1;33m,\u001b[0m\u001b[1;33m\n",
      "\u001b[0m    \u001b[0maxis\u001b[0m\u001b[1;33m=\u001b[0m\u001b[1;33m-\u001b[0m\u001b[1;36m1\u001b[0m\u001b[1;33m,\u001b[0m\u001b[1;33m\n",
      "\u001b[0m    \u001b[0mreduction\u001b[0m\u001b[1;33m=\u001b[0m\u001b[1;34m'auto'\u001b[0m\u001b[1;33m,\u001b[0m\u001b[1;33m\n",
      "\u001b[0m    \u001b[0mname\u001b[0m\u001b[1;33m=\u001b[0m\u001b[1;34m'binary_crossentropy'\u001b[0m\u001b[1;33m,\u001b[0m\u001b[1;33m\n",
      "\u001b[0m\u001b[1;33m)\u001b[0m\u001b[1;33m\u001b[0m\u001b[1;33m\u001b[0m\u001b[0m\n",
      "\u001b[1;31mSource:\u001b[0m        \n",
      "\u001b[1;32mclass\u001b[0m \u001b[0mBinaryCrossentropy\u001b[0m\u001b[1;33m(\u001b[0m\u001b[0mLossFunctionWrapper\u001b[0m\u001b[1;33m)\u001b[0m\u001b[1;33m:\u001b[0m\u001b[1;33m\n",
      "\u001b[0m    \u001b[1;34m\"\"\"Computes the cross-entropy loss between true labels and predicted labels.\n",
      "\n",
      "    Use this cross-entropy loss for binary (0 or 1) classification applications.\n",
      "    The loss function requires the following inputs:\n",
      "\n",
      "    - `y_true` (true label): This is either 0 or 1.\n",
      "    - `y_pred` (predicted value): This is the model's prediction, i.e, a single\n",
      "      floating-point value which either represents a\n",
      "      [logit](https://en.wikipedia.org/wiki/Logit), (i.e, value in [-inf, inf]\n",
      "      when `from_logits=True`) or a probability (i.e, value in [0., 1.] when\n",
      "      `from_logits=False`).\n",
      "\n",
      "    **Recommended Usage:** (set `from_logits=True`)\n",
      "\n",
      "    With `tf.keras` API:\n",
      "\n",
      "    ```python\n",
      "    model.compile(\n",
      "      loss=tf.keras.losses.BinaryCrossentropy(from_logits=True),\n",
      "      ....\n",
      "    )\n",
      "    ```\n",
      "\n",
      "    As a standalone function:\n",
      "\n",
      "    >>> # Example 1: (batch_size = 1, number of samples = 4)\n",
      "    >>> y_true = [0, 1, 0, 0]\n",
      "    >>> y_pred = [-18.6, 0.51, 2.94, -12.8]\n",
      "    >>> bce = tf.keras.losses.BinaryCrossentropy(from_logits=True)\n",
      "    >>> bce(y_true, y_pred).numpy()\n",
      "    0.865\n",
      "\n",
      "    >>> # Example 2: (batch_size = 2, number of samples = 4)\n",
      "    >>> y_true = [[0, 1], [0, 0]]\n",
      "    >>> y_pred = [[-18.6, 0.51], [2.94, -12.8]]\n",
      "    >>> # Using default 'auto'/'sum_over_batch_size' reduction type.\n",
      "    >>> bce = tf.keras.losses.BinaryCrossentropy(from_logits=True)\n",
      "    >>> bce(y_true, y_pred).numpy()\n",
      "    0.865\n",
      "    >>> # Using 'sample_weight' attribute\n",
      "    >>> bce(y_true, y_pred, sample_weight=[0.8, 0.2]).numpy()\n",
      "    0.243\n",
      "    >>> # Using 'sum' reduction` type.\n",
      "    >>> bce = tf.keras.losses.BinaryCrossentropy(from_logits=True,\n",
      "    ...     reduction=tf.keras.losses.Reduction.SUM)\n",
      "    >>> bce(y_true, y_pred).numpy()\n",
      "    1.730\n",
      "    >>> # Using 'none' reduction type.\n",
      "    >>> bce = tf.keras.losses.BinaryCrossentropy(from_logits=True,\n",
      "    ...     reduction=tf.keras.losses.Reduction.NONE)\n",
      "    >>> bce(y_true, y_pred).numpy()\n",
      "    array([0.235, 1.496], dtype=float32)\n",
      "\n",
      "    **Default Usage:** (set `from_logits=False`)\n",
      "\n",
      "    >>> # Make the following updates to the above \"Recommended Usage\" section\n",
      "    >>> # 1. Set `from_logits=False`\n",
      "    >>> tf.keras.losses.BinaryCrossentropy() # OR ...('from_logits=False')\n",
      "    >>> # 2. Update `y_pred` to use probabilities instead of logits\n",
      "    >>> y_pred = [0.6, 0.3, 0.2, 0.8] # OR [[0.6, 0.3], [0.2, 0.8]]\n",
      "    \"\"\"\u001b[0m\u001b[1;33m\n",
      "\u001b[0m\u001b[1;33m\n",
      "\u001b[0m    \u001b[1;32mdef\u001b[0m \u001b[0m__init__\u001b[0m\u001b[1;33m(\u001b[0m\u001b[1;33m\n",
      "\u001b[0m        \u001b[0mself\u001b[0m\u001b[1;33m,\u001b[0m\u001b[1;33m\n",
      "\u001b[0m        \u001b[0mfrom_logits\u001b[0m\u001b[1;33m=\u001b[0m\u001b[1;32mFalse\u001b[0m\u001b[1;33m,\u001b[0m\u001b[1;33m\n",
      "\u001b[0m        \u001b[0mlabel_smoothing\u001b[0m\u001b[1;33m=\u001b[0m\u001b[1;36m0.0\u001b[0m\u001b[1;33m,\u001b[0m\u001b[1;33m\n",
      "\u001b[0m        \u001b[0maxis\u001b[0m\u001b[1;33m=\u001b[0m\u001b[1;33m-\u001b[0m\u001b[1;36m1\u001b[0m\u001b[1;33m,\u001b[0m\u001b[1;33m\n",
      "\u001b[0m        \u001b[0mreduction\u001b[0m\u001b[1;33m=\u001b[0m\u001b[0mlosses_utils\u001b[0m\u001b[1;33m.\u001b[0m\u001b[0mReductionV2\u001b[0m\u001b[1;33m.\u001b[0m\u001b[0mAUTO\u001b[0m\u001b[1;33m,\u001b[0m\u001b[1;33m\n",
      "\u001b[0m        \u001b[0mname\u001b[0m\u001b[1;33m=\u001b[0m\u001b[1;34m\"binary_crossentropy\"\u001b[0m\u001b[1;33m,\u001b[0m\u001b[1;33m\n",
      "\u001b[0m    \u001b[1;33m)\u001b[0m\u001b[1;33m:\u001b[0m\u001b[1;33m\n",
      "\u001b[0m        \u001b[1;34m\"\"\"Initializes `BinaryCrossentropy` instance.\n",
      "\n",
      "        Args:\n",
      "          from_logits: Whether to interpret `y_pred` as a tensor of\n",
      "            [logit](https://en.wikipedia.org/wiki/Logit) values. By default, we\n",
      "            assume that `y_pred` contains probabilities (i.e., values in [0,\n",
      "            1]).\n",
      "          label_smoothing: Float in [0, 1]. When 0, no smoothing occurs. When >\n",
      "            0, we compute the loss between the predicted labels and a smoothed\n",
      "            version of the true labels, where the smoothing squeezes the labels\n",
      "            towards 0.5.  Larger values of `label_smoothing` correspond to\n",
      "            heavier smoothing.\n",
      "          axis: The axis along which to compute crossentropy (the features\n",
      "            axis).  Defaults to -1.\n",
      "          reduction: Type of `tf.keras.losses.Reduction` to apply to\n",
      "            loss. Default value is `AUTO`. `AUTO` indicates that the reduction\n",
      "            option will be determined by the usage context. For almost all cases\n",
      "            this defaults to `SUM_OVER_BATCH_SIZE`. When used under a\n",
      "            `tf.distribute.Strategy`, except via `Model.compile()` and\n",
      "            `Model.fit()`, using `AUTO` or `SUM_OVER_BATCH_SIZE`\n",
      "            will raise an error. Please see this custom training [tutorial](\n",
      "            https://www.tensorflow.org/tutorials/distribute/custom_training)\n",
      "            for more details.\n",
      "          name: Name for the op. Defaults to 'binary_crossentropy'.\n",
      "        \"\"\"\u001b[0m\u001b[1;33m\n",
      "\u001b[0m        \u001b[0msuper\u001b[0m\u001b[1;33m(\u001b[0m\u001b[1;33m)\u001b[0m\u001b[1;33m.\u001b[0m\u001b[0m__init__\u001b[0m\u001b[1;33m(\u001b[0m\u001b[1;33m\n",
      "\u001b[0m            \u001b[0mbinary_crossentropy\u001b[0m\u001b[1;33m,\u001b[0m\u001b[1;33m\n",
      "\u001b[0m            \u001b[0mname\u001b[0m\u001b[1;33m=\u001b[0m\u001b[0mname\u001b[0m\u001b[1;33m,\u001b[0m\u001b[1;33m\n",
      "\u001b[0m            \u001b[0mreduction\u001b[0m\u001b[1;33m=\u001b[0m\u001b[0mreduction\u001b[0m\u001b[1;33m,\u001b[0m\u001b[1;33m\n",
      "\u001b[0m            \u001b[0mfrom_logits\u001b[0m\u001b[1;33m=\u001b[0m\u001b[0mfrom_logits\u001b[0m\u001b[1;33m,\u001b[0m\u001b[1;33m\n",
      "\u001b[0m            \u001b[0mlabel_smoothing\u001b[0m\u001b[1;33m=\u001b[0m\u001b[0mlabel_smoothing\u001b[0m\u001b[1;33m,\u001b[0m\u001b[1;33m\n",
      "\u001b[0m            \u001b[0maxis\u001b[0m\u001b[1;33m=\u001b[0m\u001b[0maxis\u001b[0m\u001b[1;33m,\u001b[0m\u001b[1;33m\n",
      "\u001b[0m        \u001b[1;33m)\u001b[0m\u001b[1;33m\n",
      "\u001b[0m        \u001b[0mself\u001b[0m\u001b[1;33m.\u001b[0m\u001b[0mfrom_logits\u001b[0m \u001b[1;33m=\u001b[0m \u001b[0mfrom_logits\u001b[0m\u001b[1;33m\u001b[0m\u001b[1;33m\u001b[0m\u001b[0m\n",
      "\u001b[1;31mFile:\u001b[0m           e:\\newpy\\lib\\site-packages\\keras\\src\\losses.py\n",
      "\u001b[1;31mType:\u001b[0m           type\n",
      "\u001b[1;31mSubclasses:\u001b[0m     "
     ]
    }
   ],
   "source": [
    "tf.losses.BinaryCrossentropy??"
   ]
  },
  {
   "cell_type": "code",
   "execution_count": 106,
   "metadata": {},
   "outputs": [],
   "source": [
    "@tf.function\n",
    "def train_step(batch):\n",
    "    \n",
    "    # Record all of our operations \n",
    "    with tf.GradientTape() as tape:     \n",
    "        # Get anchor and positive/negative image\n",
    "        X = batch[:2]\n",
    "        # Get label\n",
    "        y = batch[2]\n",
    "        \n",
    "        # Forward pass\n",
    "        yhat = siamese_model(X, training=True)\n",
    "        # Calculate loss\n",
    "        loss = binary_cross_loss(y, yhat)\n",
    "    print(loss)\n",
    "        \n",
    "    # Calculate gradients\n",
    "    grad = tape.gradient(loss, siamese_model.trainable_variables)\n",
    "    \n",
    "    # Calculate updated weights and apply to siamese model\n",
    "    opt.apply_gradients(zip(grad, siamese_model.trainable_variables))\n",
    "        \n",
    "    # Return loss\n",
    "    return loss"
   ]
  },
  {
   "cell_type": "markdown",
   "metadata": {},
   "source": [
    "Build Training loop"
   ]
  },
  {
   "cell_type": "code",
   "execution_count": 107,
   "metadata": {},
   "outputs": [],
   "source": [
    "# Import metric calculations\n",
    "from tensorflow.keras.metrics import Precision, Recall"
   ]
  },
  {
   "cell_type": "code",
   "execution_count": 108,
   "metadata": {},
   "outputs": [],
   "source": [
    "def train(data, EPOCHS):\n",
    "    # Loop through epochs\n",
    "    for epoch in range(1, EPOCHS+1):\n",
    "        print('\\n Epoch {}/{}'.format(epoch, EPOCHS))\n",
    "        progbar = tf.keras.utils.Progbar(len(data))\n",
    "        \n",
    "        # Creating a metric object \n",
    "        r = Recall()\n",
    "        p = Precision()\n",
    "        \n",
    "        # Loop through each batch\n",
    "        for idx, batch in enumerate(data):\n",
    "            # Run train step here\n",
    "            loss = train_step(batch)\n",
    "            yhat = siamese_model.predict(batch[:2])\n",
    "            r.update_state(batch[2], yhat)\n",
    "            p.update_state(batch[2], yhat) \n",
    "            progbar.update(idx+1)\n",
    "        print(loss.numpy(), r.result().numpy(), p.result().numpy())\n",
    "        \n",
    "        # Save checkpoints\n",
    "        if epoch % 10 == 0: \n",
    "            checkpoint.save(file_prefix=checkpoint_prefix)"
   ]
  },
  {
   "cell_type": "code",
   "execution_count": 109,
   "metadata": {},
   "outputs": [
    {
     "name": "stdout",
     "output_type": "stream",
     "text": [
      "\n",
      " Epoch 1/50\n",
      "Tensor(\"binary_crossentropy/weighted_loss/value:0\", shape=(), dtype=float32)\n",
      "Tensor(\"binary_crossentropy/weighted_loss/value:0\", shape=(), dtype=float32)\n",
      "1/1 [==============================] - 2s 2s/step\n",
      "1/1 [==============================] - 2s 2s/step\n",
      "1/1 [==============================] - 2s 2s/step\n",
      "1/1 [==============================] - 3s 3s/step\n",
      "1/1 [==============================] - 3s 3s/step\n",
      "1/1 [==============================] - 3s 3s/step\n",
      "1/1 [==============================] - 2s 2s/step\n",
      "1/1 [==============================] - 3s 3s/step\n",
      "1/1 [==============================] - 3s 3s/step\n",
      "1/1 [==============================] - 3s 3s/step\n",
      "1/1 [==============================] - 2s 2s/step\n",
      "1/1 [==============================] - 3s 3s/step\n",
      "1/1 [==============================] - 2s 2s/step\n",
      "1/1 [==============================] - 3s 3s/step\n",
      "1/1 [==============================] - 2s 2s/step\n",
      "1/1 [==============================] - 2s 2s/step\n",
      "1/1 [==============================] - 2s 2s/step\n",
      "1/1 [==============================] - 2s 2s/step\n",
      "1/1 [==============================] - 2s 2s/step\n",
      "1/1 [==============================] - 2s 2s/step\n",
      "1/1 [==============================] - 2s 2s/step\n",
      "1/1 [==============================] - 4s 4s/step\n",
      "1/1 [==============================] - 4s 4s/step\n",
      "1/1 [==============================] - 4s 4s/step\n",
      "1/1 [==============================] - 4s 4s/step\n",
      "1/1 [==============================] - 4s 4s/step\n",
      "26/27 [===========================>..] - ETA: 26sTensor(\"binary_crossentropy/weighted_loss/value:0\", shape=(), dtype=float32)\n",
      "1/1 [==============================] - 1s 1s/step\n",
      "27/27 [==============================] - 702s 26s/step\n",
      "0.43998554 0.48803827 0.9807692\n",
      "\n",
      " Epoch 2/50\n",
      "1/1 [==============================] - 5s 5s/step\n",
      "1/1 [==============================] - 3s 3s/step\n",
      "1/1 [==============================] - 3s 3s/step\n",
      "1/1 [==============================] - 3s 3s/step\n",
      "1/1 [==============================] - 3s 3s/step\n",
      "1/1 [==============================] - 3s 3s/step\n",
      "1/1 [==============================] - 3s 3s/step\n",
      "1/1 [==============================] - 2s 2s/step\n",
      "1/1 [==============================] - 2s 2s/step\n",
      "1/1 [==============================] - 2s 2s/step\n",
      "1/1 [==============================] - 2s 2s/step\n",
      "1/1 [==============================] - 3s 3s/step\n",
      "1/1 [==============================] - 2s 2s/step\n",
      "1/1 [==============================] - 3s 3s/step\n",
      "1/1 [==============================] - 2s 2s/step\n",
      "1/1 [==============================] - 3s 3s/step\n",
      "1/1 [==============================] - 3s 3s/step\n",
      "1/1 [==============================] - 2s 2s/step\n",
      "1/1 [==============================] - 2s 2s/step\n",
      "1/1 [==============================] - 2s 2s/step\n",
      "1/1 [==============================] - 3s 3s/step\n",
      "1/1 [==============================] - 2s 2s/step\n",
      "1/1 [==============================] - 2s 2s/step\n",
      "1/1 [==============================] - 3s 3s/step\n",
      "1/1 [==============================] - 3s 3s/step\n",
      "1/1 [==============================] - 3s 3s/step\n",
      "1/1 [==============================] - 1s 716ms/step\n",
      "27/27 [==============================] - 629s 23s/step\n",
      "0.014442288 0.96330273 0.99526066\n",
      "\n",
      " Epoch 3/50\n",
      "1/1 [==============================] - 3s 3s/step\n",
      "1/1 [==============================] - 3s 3s/step\n",
      "1/1 [==============================] - 3s 3s/step\n",
      "1/1 [==============================] - 3s 3s/step\n",
      "1/1 [==============================] - 3s 3s/step\n",
      "1/1 [==============================] - 3s 3s/step\n",
      "1/1 [==============================] - 3s 3s/step\n",
      "1/1 [==============================] - 3s 3s/step\n",
      "1/1 [==============================] - 3s 3s/step\n",
      "1/1 [==============================] - 3s 3s/step\n",
      "1/1 [==============================] - 3s 3s/step\n",
      "1/1 [==============================] - 3s 3s/step\n",
      "1/1 [==============================] - 3s 3s/step\n",
      "1/1 [==============================] - 3s 3s/step\n",
      "1/1 [==============================] - 3s 3s/step\n",
      "1/1 [==============================] - 3s 3s/step\n",
      "1/1 [==============================] - 3s 3s/step\n",
      "1/1 [==============================] - 3s 3s/step\n",
      "1/1 [==============================] - 3s 3s/step\n",
      "1/1 [==============================] - 4s 4s/step\n",
      "1/1 [==============================] - 3s 3s/step\n",
      "1/1 [==============================] - 3s 3s/step\n",
      "1/1 [==============================] - 3s 3s/step\n",
      "1/1 [==============================] - 3s 3s/step\n",
      "1/1 [==============================] - 3s 3s/step\n",
      "1/1 [==============================] - 5s 5s/step\n",
      "1/1 [==============================] - 1s 1s/step\n",
      "27/27 [==============================] - 677s 25s/step\n",
      "0.18828207 0.8942308 0.92537314\n",
      "\n",
      " Epoch 4/50\n",
      "1/1 [==============================] - 3s 3s/step\n",
      "1/1 [==============================] - 3s 3s/step\n",
      "1/1 [==============================] - 3s 3s/step\n",
      "1/1 [==============================] - 3s 3s/step\n",
      "1/1 [==============================] - 3s 3s/step\n",
      "1/1 [==============================] - 3s 3s/step\n",
      "1/1 [==============================] - 3s 3s/step\n",
      "1/1 [==============================] - 3s 3s/step\n",
      "1/1 [==============================] - 3s 3s/step\n",
      "1/1 [==============================] - 3s 3s/step\n",
      "1/1 [==============================] - 3s 3s/step\n",
      "1/1 [==============================] - 3s 3s/step\n",
      "1/1 [==============================] - 3s 3s/step\n",
      "1/1 [==============================] - 3s 3s/step\n",
      "1/1 [==============================] - 3s 3s/step\n",
      "1/1 [==============================] - 3s 3s/step\n",
      "1/1 [==============================] - 3s 3s/step\n",
      "1/1 [==============================] - 3s 3s/step\n",
      "1/1 [==============================] - 3s 3s/step\n",
      "1/1 [==============================] - 3s 3s/step\n",
      "1/1 [==============================] - 3s 3s/step\n",
      "1/1 [==============================] - 3s 3s/step\n",
      "1/1 [==============================] - 3s 3s/step\n",
      "1/1 [==============================] - 3s 3s/step\n",
      "1/1 [==============================] - 3s 3s/step\n",
      "1/1 [==============================] - 3s 3s/step\n",
      "1/1 [==============================] - 1s 800ms/step\n",
      "27/27 [==============================] - 684s 25s/step\n",
      "0.121854916 0.9551569 0.9861111\n",
      "\n",
      " Epoch 5/50\n",
      "1/1 [==============================] - 3s 3s/step\n",
      "1/1 [==============================] - 3s 3s/step\n",
      "1/1 [==============================] - 3s 3s/step\n",
      "1/1 [==============================] - 2s 2s/step\n",
      "1/1 [==============================] - 3s 3s/step\n",
      "1/1 [==============================] - 3s 3s/step\n",
      "1/1 [==============================] - 3s 3s/step\n",
      "1/1 [==============================] - 3s 3s/step\n",
      "1/1 [==============================] - 3s 3s/step\n",
      "1/1 [==============================] - 2s 2s/step\n",
      "1/1 [==============================] - 2s 2s/step\n",
      "1/1 [==============================] - 2s 2s/step\n",
      "1/1 [==============================] - 3s 3s/step\n",
      "1/1 [==============================] - 3s 3s/step\n",
      "1/1 [==============================] - 2s 2s/step\n",
      "1/1 [==============================] - 3s 3s/step\n",
      "1/1 [==============================] - 3s 3s/step\n",
      "1/1 [==============================] - 3s 3s/step\n",
      "1/1 [==============================] - 2s 2s/step\n",
      "1/1 [==============================] - 3s 3s/step\n",
      "1/1 [==============================] - 3s 3s/step\n",
      "1/1 [==============================] - 3s 3s/step\n",
      "1/1 [==============================] - 3s 3s/step\n",
      "1/1 [==============================] - 2s 2s/step\n",
      "1/1 [==============================] - 2s 2s/step\n",
      "1/1 [==============================] - 2s 2s/step\n",
      "1/1 [==============================] - 1s 587ms/step\n",
      "27/27 [==============================] - 3522s 134s/step\n",
      "0.076892845 0.97183096 0.9951923\n",
      "\n",
      " Epoch 6/50\n",
      "1/1 [==============================] - 3s 3s/step\n",
      "1/1 [==============================] - 2s 2s/step\n",
      "1/1 [==============================] - 3s 3s/step\n",
      "1/1 [==============================] - 2s 2s/step\n",
      "1/1 [==============================] - 3s 3s/step\n",
      " 5/27 [====>.........................] - ETA: 9:36 "
     ]
    },
    {
     "ename": "KeyboardInterrupt",
     "evalue": "",
     "output_type": "error",
     "traceback": [
      "\u001b[1;31m---------------------------------------------------------------------------\u001b[0m",
      "\u001b[1;31mKeyboardInterrupt\u001b[0m                         Traceback (most recent call last)",
      "Cell \u001b[1;32mIn[109], line 2\u001b[0m\n\u001b[0;32m      1\u001b[0m EPOCHS \u001b[38;5;241m=\u001b[39m \u001b[38;5;241m50\u001b[39m\n\u001b[1;32m----> 2\u001b[0m \u001b[43mtrain\u001b[49m\u001b[43m(\u001b[49m\u001b[43mtrain_data\u001b[49m\u001b[43m,\u001b[49m\u001b[43m \u001b[49m\u001b[43mEPOCHS\u001b[49m\u001b[43m)\u001b[49m\n",
      "Cell \u001b[1;32mIn[108], line 14\u001b[0m, in \u001b[0;36mtrain\u001b[1;34m(data, EPOCHS)\u001b[0m\n\u001b[0;32m     11\u001b[0m \u001b[38;5;66;03m# Loop through each batch\u001b[39;00m\n\u001b[0;32m     12\u001b[0m \u001b[38;5;28;01mfor\u001b[39;00m idx, batch \u001b[38;5;129;01min\u001b[39;00m \u001b[38;5;28menumerate\u001b[39m(data):\n\u001b[0;32m     13\u001b[0m     \u001b[38;5;66;03m# Run train step here\u001b[39;00m\n\u001b[1;32m---> 14\u001b[0m     loss \u001b[38;5;241m=\u001b[39m \u001b[43mtrain_step\u001b[49m\u001b[43m(\u001b[49m\u001b[43mbatch\u001b[49m\u001b[43m)\u001b[49m\n\u001b[0;32m     15\u001b[0m     yhat \u001b[38;5;241m=\u001b[39m siamese_model\u001b[38;5;241m.\u001b[39mpredict(batch[:\u001b[38;5;241m2\u001b[39m])\n\u001b[0;32m     16\u001b[0m     r\u001b[38;5;241m.\u001b[39mupdate_state(batch[\u001b[38;5;241m2\u001b[39m], yhat)\n",
      "File \u001b[1;32me:\\newpy\\lib\\site-packages\\tensorflow\\python\\util\\traceback_utils.py:150\u001b[0m, in \u001b[0;36mfilter_traceback.<locals>.error_handler\u001b[1;34m(*args, **kwargs)\u001b[0m\n\u001b[0;32m    148\u001b[0m filtered_tb \u001b[38;5;241m=\u001b[39m \u001b[38;5;28;01mNone\u001b[39;00m\n\u001b[0;32m    149\u001b[0m \u001b[38;5;28;01mtry\u001b[39;00m:\n\u001b[1;32m--> 150\u001b[0m   \u001b[38;5;28;01mreturn\u001b[39;00m \u001b[43mfn\u001b[49m\u001b[43m(\u001b[49m\u001b[38;5;241;43m*\u001b[39;49m\u001b[43margs\u001b[49m\u001b[43m,\u001b[49m\u001b[43m \u001b[49m\u001b[38;5;241;43m*\u001b[39;49m\u001b[38;5;241;43m*\u001b[39;49m\u001b[43mkwargs\u001b[49m\u001b[43m)\u001b[49m\n\u001b[0;32m    151\u001b[0m \u001b[38;5;28;01mexcept\u001b[39;00m \u001b[38;5;167;01mException\u001b[39;00m \u001b[38;5;28;01mas\u001b[39;00m e:\n\u001b[0;32m    152\u001b[0m   filtered_tb \u001b[38;5;241m=\u001b[39m _process_traceback_frames(e\u001b[38;5;241m.\u001b[39m__traceback__)\n",
      "File \u001b[1;32me:\\newpy\\lib\\site-packages\\tensorflow\\python\\eager\\polymorphic_function\\polymorphic_function.py:825\u001b[0m, in \u001b[0;36mFunction.__call__\u001b[1;34m(self, *args, **kwds)\u001b[0m\n\u001b[0;32m    822\u001b[0m compiler \u001b[38;5;241m=\u001b[39m \u001b[38;5;124m\"\u001b[39m\u001b[38;5;124mxla\u001b[39m\u001b[38;5;124m\"\u001b[39m \u001b[38;5;28;01mif\u001b[39;00m \u001b[38;5;28mself\u001b[39m\u001b[38;5;241m.\u001b[39m_jit_compile \u001b[38;5;28;01melse\u001b[39;00m \u001b[38;5;124m\"\u001b[39m\u001b[38;5;124mnonXla\u001b[39m\u001b[38;5;124m\"\u001b[39m\n\u001b[0;32m    824\u001b[0m \u001b[38;5;28;01mwith\u001b[39;00m OptionalXlaContext(\u001b[38;5;28mself\u001b[39m\u001b[38;5;241m.\u001b[39m_jit_compile):\n\u001b[1;32m--> 825\u001b[0m   result \u001b[38;5;241m=\u001b[39m \u001b[38;5;28;43mself\u001b[39;49m\u001b[38;5;241;43m.\u001b[39;49m\u001b[43m_call\u001b[49m\u001b[43m(\u001b[49m\u001b[38;5;241;43m*\u001b[39;49m\u001b[43margs\u001b[49m\u001b[43m,\u001b[49m\u001b[43m \u001b[49m\u001b[38;5;241;43m*\u001b[39;49m\u001b[38;5;241;43m*\u001b[39;49m\u001b[43mkwds\u001b[49m\u001b[43m)\u001b[49m\n\u001b[0;32m    827\u001b[0m new_tracing_count \u001b[38;5;241m=\u001b[39m \u001b[38;5;28mself\u001b[39m\u001b[38;5;241m.\u001b[39mexperimental_get_tracing_count()\n\u001b[0;32m    828\u001b[0m without_tracing \u001b[38;5;241m=\u001b[39m (tracing_count \u001b[38;5;241m==\u001b[39m new_tracing_count)\n",
      "File \u001b[1;32me:\\newpy\\lib\\site-packages\\tensorflow\\python\\eager\\polymorphic_function\\polymorphic_function.py:857\u001b[0m, in \u001b[0;36mFunction._call\u001b[1;34m(self, *args, **kwds)\u001b[0m\n\u001b[0;32m    854\u001b[0m   \u001b[38;5;28mself\u001b[39m\u001b[38;5;241m.\u001b[39m_lock\u001b[38;5;241m.\u001b[39mrelease()\n\u001b[0;32m    855\u001b[0m   \u001b[38;5;66;03m# In this case we have created variables on the first call, so we run the\u001b[39;00m\n\u001b[0;32m    856\u001b[0m   \u001b[38;5;66;03m# defunned version which is guaranteed to never create variables.\u001b[39;00m\n\u001b[1;32m--> 857\u001b[0m   \u001b[38;5;28;01mreturn\u001b[39;00m \u001b[38;5;28;43mself\u001b[39;49m\u001b[38;5;241;43m.\u001b[39;49m\u001b[43m_no_variable_creation_fn\u001b[49m\u001b[43m(\u001b[49m\u001b[38;5;241;43m*\u001b[39;49m\u001b[43margs\u001b[49m\u001b[43m,\u001b[49m\u001b[43m \u001b[49m\u001b[38;5;241;43m*\u001b[39;49m\u001b[38;5;241;43m*\u001b[39;49m\u001b[43mkwds\u001b[49m\u001b[43m)\u001b[49m  \u001b[38;5;66;03m# pylint: disable=not-callable\u001b[39;00m\n\u001b[0;32m    858\u001b[0m \u001b[38;5;28;01melif\u001b[39;00m \u001b[38;5;28mself\u001b[39m\u001b[38;5;241m.\u001b[39m_variable_creation_fn \u001b[38;5;129;01mis\u001b[39;00m \u001b[38;5;129;01mnot\u001b[39;00m \u001b[38;5;28;01mNone\u001b[39;00m:\n\u001b[0;32m    859\u001b[0m   \u001b[38;5;66;03m# Release the lock early so that multiple threads can perform the call\u001b[39;00m\n\u001b[0;32m    860\u001b[0m   \u001b[38;5;66;03m# in parallel.\u001b[39;00m\n\u001b[0;32m    861\u001b[0m   \u001b[38;5;28mself\u001b[39m\u001b[38;5;241m.\u001b[39m_lock\u001b[38;5;241m.\u001b[39mrelease()\n",
      "File \u001b[1;32me:\\newpy\\lib\\site-packages\\tensorflow\\python\\eager\\polymorphic_function\\tracing_compiler.py:148\u001b[0m, in \u001b[0;36mTracingCompiler.__call__\u001b[1;34m(self, *args, **kwargs)\u001b[0m\n\u001b[0;32m    145\u001b[0m \u001b[38;5;28;01mwith\u001b[39;00m \u001b[38;5;28mself\u001b[39m\u001b[38;5;241m.\u001b[39m_lock:\n\u001b[0;32m    146\u001b[0m   (concrete_function,\n\u001b[0;32m    147\u001b[0m    filtered_flat_args) \u001b[38;5;241m=\u001b[39m \u001b[38;5;28mself\u001b[39m\u001b[38;5;241m.\u001b[39m_maybe_define_function(args, kwargs)\n\u001b[1;32m--> 148\u001b[0m \u001b[38;5;28;01mreturn\u001b[39;00m \u001b[43mconcrete_function\u001b[49m\u001b[38;5;241;43m.\u001b[39;49m\u001b[43m_call_flat\u001b[49m\u001b[43m(\u001b[49m\n\u001b[0;32m    149\u001b[0m \u001b[43m    \u001b[49m\u001b[43mfiltered_flat_args\u001b[49m\u001b[43m,\u001b[49m\u001b[43m \u001b[49m\u001b[43mcaptured_inputs\u001b[49m\u001b[38;5;241;43m=\u001b[39;49m\u001b[43mconcrete_function\u001b[49m\u001b[38;5;241;43m.\u001b[39;49m\u001b[43mcaptured_inputs\u001b[49m\u001b[43m)\u001b[49m\n",
      "File \u001b[1;32me:\\newpy\\lib\\site-packages\\tensorflow\\python\\eager\\polymorphic_function\\monomorphic_function.py:1349\u001b[0m, in \u001b[0;36mConcreteFunction._call_flat\u001b[1;34m(self, args, captured_inputs)\u001b[0m\n\u001b[0;32m   1345\u001b[0m possible_gradient_type \u001b[38;5;241m=\u001b[39m gradients_util\u001b[38;5;241m.\u001b[39mPossibleTapeGradientTypes(args)\n\u001b[0;32m   1346\u001b[0m \u001b[38;5;28;01mif\u001b[39;00m (possible_gradient_type \u001b[38;5;241m==\u001b[39m gradients_util\u001b[38;5;241m.\u001b[39mPOSSIBLE_GRADIENT_TYPES_NONE\n\u001b[0;32m   1347\u001b[0m     \u001b[38;5;129;01mand\u001b[39;00m executing_eagerly):\n\u001b[0;32m   1348\u001b[0m   \u001b[38;5;66;03m# No tape is watching; skip to running the function.\u001b[39;00m\n\u001b[1;32m-> 1349\u001b[0m   \u001b[38;5;28;01mreturn\u001b[39;00m \u001b[38;5;28mself\u001b[39m\u001b[38;5;241m.\u001b[39m_build_call_outputs(\u001b[38;5;28;43mself\u001b[39;49m\u001b[38;5;241;43m.\u001b[39;49m\u001b[43m_inference_function\u001b[49m\u001b[43m(\u001b[49m\u001b[38;5;241;43m*\u001b[39;49m\u001b[43margs\u001b[49m\u001b[43m)\u001b[49m)\n\u001b[0;32m   1350\u001b[0m forward_backward \u001b[38;5;241m=\u001b[39m \u001b[38;5;28mself\u001b[39m\u001b[38;5;241m.\u001b[39m_select_forward_and_backward_functions(\n\u001b[0;32m   1351\u001b[0m     args,\n\u001b[0;32m   1352\u001b[0m     possible_gradient_type,\n\u001b[0;32m   1353\u001b[0m     executing_eagerly)\n\u001b[0;32m   1354\u001b[0m forward_function, args_with_tangents \u001b[38;5;241m=\u001b[39m forward_backward\u001b[38;5;241m.\u001b[39mforward()\n",
      "File \u001b[1;32me:\\newpy\\lib\\site-packages\\tensorflow\\python\\eager\\polymorphic_function\\atomic_function.py:196\u001b[0m, in \u001b[0;36mAtomicFunction.__call__\u001b[1;34m(self, *args)\u001b[0m\n\u001b[0;32m    194\u001b[0m \u001b[38;5;28;01mwith\u001b[39;00m record\u001b[38;5;241m.\u001b[39mstop_recording():\n\u001b[0;32m    195\u001b[0m   \u001b[38;5;28;01mif\u001b[39;00m \u001b[38;5;28mself\u001b[39m\u001b[38;5;241m.\u001b[39m_bound_context\u001b[38;5;241m.\u001b[39mexecuting_eagerly():\n\u001b[1;32m--> 196\u001b[0m     outputs \u001b[38;5;241m=\u001b[39m \u001b[38;5;28;43mself\u001b[39;49m\u001b[38;5;241;43m.\u001b[39;49m\u001b[43m_bound_context\u001b[49m\u001b[38;5;241;43m.\u001b[39;49m\u001b[43mcall_function\u001b[49m\u001b[43m(\u001b[49m\n\u001b[0;32m    197\u001b[0m \u001b[43m        \u001b[49m\u001b[38;5;28;43mself\u001b[39;49m\u001b[38;5;241;43m.\u001b[39;49m\u001b[43mname\u001b[49m\u001b[43m,\u001b[49m\n\u001b[0;32m    198\u001b[0m \u001b[43m        \u001b[49m\u001b[38;5;28;43mlist\u001b[39;49m\u001b[43m(\u001b[49m\u001b[43margs\u001b[49m\u001b[43m)\u001b[49m\u001b[43m,\u001b[49m\n\u001b[0;32m    199\u001b[0m \u001b[43m        \u001b[49m\u001b[38;5;28;43mlen\u001b[39;49m\u001b[43m(\u001b[49m\u001b[38;5;28;43mself\u001b[39;49m\u001b[38;5;241;43m.\u001b[39;49m\u001b[43mfunction_type\u001b[49m\u001b[38;5;241;43m.\u001b[39;49m\u001b[43mflat_outputs\u001b[49m\u001b[43m)\u001b[49m\u001b[43m,\u001b[49m\n\u001b[0;32m    200\u001b[0m \u001b[43m    \u001b[49m\u001b[43m)\u001b[49m\n\u001b[0;32m    201\u001b[0m   \u001b[38;5;28;01melse\u001b[39;00m:\n\u001b[0;32m    202\u001b[0m     outputs \u001b[38;5;241m=\u001b[39m make_call_op_in_graph(\u001b[38;5;28mself\u001b[39m, \u001b[38;5;28mlist\u001b[39m(args))\n",
      "File \u001b[1;32me:\\newpy\\lib\\site-packages\\tensorflow\\python\\eager\\context.py:1457\u001b[0m, in \u001b[0;36mContext.call_function\u001b[1;34m(self, name, tensor_inputs, num_outputs)\u001b[0m\n\u001b[0;32m   1455\u001b[0m cancellation_context \u001b[38;5;241m=\u001b[39m cancellation\u001b[38;5;241m.\u001b[39mcontext()\n\u001b[0;32m   1456\u001b[0m \u001b[38;5;28;01mif\u001b[39;00m cancellation_context \u001b[38;5;129;01mis\u001b[39;00m \u001b[38;5;28;01mNone\u001b[39;00m:\n\u001b[1;32m-> 1457\u001b[0m   outputs \u001b[38;5;241m=\u001b[39m \u001b[43mexecute\u001b[49m\u001b[38;5;241;43m.\u001b[39;49m\u001b[43mexecute\u001b[49m\u001b[43m(\u001b[49m\n\u001b[0;32m   1458\u001b[0m \u001b[43m      \u001b[49m\u001b[43mname\u001b[49m\u001b[38;5;241;43m.\u001b[39;49m\u001b[43mdecode\u001b[49m\u001b[43m(\u001b[49m\u001b[38;5;124;43m\"\u001b[39;49m\u001b[38;5;124;43mutf-8\u001b[39;49m\u001b[38;5;124;43m\"\u001b[39;49m\u001b[43m)\u001b[49m\u001b[43m,\u001b[49m\n\u001b[0;32m   1459\u001b[0m \u001b[43m      \u001b[49m\u001b[43mnum_outputs\u001b[49m\u001b[38;5;241;43m=\u001b[39;49m\u001b[43mnum_outputs\u001b[49m\u001b[43m,\u001b[49m\n\u001b[0;32m   1460\u001b[0m \u001b[43m      \u001b[49m\u001b[43minputs\u001b[49m\u001b[38;5;241;43m=\u001b[39;49m\u001b[43mtensor_inputs\u001b[49m\u001b[43m,\u001b[49m\n\u001b[0;32m   1461\u001b[0m \u001b[43m      \u001b[49m\u001b[43mattrs\u001b[49m\u001b[38;5;241;43m=\u001b[39;49m\u001b[43mattrs\u001b[49m\u001b[43m,\u001b[49m\n\u001b[0;32m   1462\u001b[0m \u001b[43m      \u001b[49m\u001b[43mctx\u001b[49m\u001b[38;5;241;43m=\u001b[39;49m\u001b[38;5;28;43mself\u001b[39;49m\u001b[43m,\u001b[49m\n\u001b[0;32m   1463\u001b[0m \u001b[43m  \u001b[49m\u001b[43m)\u001b[49m\n\u001b[0;32m   1464\u001b[0m \u001b[38;5;28;01melse\u001b[39;00m:\n\u001b[0;32m   1465\u001b[0m   outputs \u001b[38;5;241m=\u001b[39m execute\u001b[38;5;241m.\u001b[39mexecute_with_cancellation(\n\u001b[0;32m   1466\u001b[0m       name\u001b[38;5;241m.\u001b[39mdecode(\u001b[38;5;124m\"\u001b[39m\u001b[38;5;124mutf-8\u001b[39m\u001b[38;5;124m\"\u001b[39m),\n\u001b[0;32m   1467\u001b[0m       num_outputs\u001b[38;5;241m=\u001b[39mnum_outputs,\n\u001b[1;32m   (...)\u001b[0m\n\u001b[0;32m   1471\u001b[0m       cancellation_manager\u001b[38;5;241m=\u001b[39mcancellation_context,\n\u001b[0;32m   1472\u001b[0m   )\n",
      "File \u001b[1;32me:\\newpy\\lib\\site-packages\\tensorflow\\python\\eager\\execute.py:53\u001b[0m, in \u001b[0;36mquick_execute\u001b[1;34m(op_name, num_outputs, inputs, attrs, ctx, name)\u001b[0m\n\u001b[0;32m     51\u001b[0m \u001b[38;5;28;01mtry\u001b[39;00m:\n\u001b[0;32m     52\u001b[0m   ctx\u001b[38;5;241m.\u001b[39mensure_initialized()\n\u001b[1;32m---> 53\u001b[0m   tensors \u001b[38;5;241m=\u001b[39m \u001b[43mpywrap_tfe\u001b[49m\u001b[38;5;241;43m.\u001b[39;49m\u001b[43mTFE_Py_Execute\u001b[49m\u001b[43m(\u001b[49m\u001b[43mctx\u001b[49m\u001b[38;5;241;43m.\u001b[39;49m\u001b[43m_handle\u001b[49m\u001b[43m,\u001b[49m\u001b[43m \u001b[49m\u001b[43mdevice_name\u001b[49m\u001b[43m,\u001b[49m\u001b[43m \u001b[49m\u001b[43mop_name\u001b[49m\u001b[43m,\u001b[49m\n\u001b[0;32m     54\u001b[0m \u001b[43m                                      \u001b[49m\u001b[43minputs\u001b[49m\u001b[43m,\u001b[49m\u001b[43m \u001b[49m\u001b[43mattrs\u001b[49m\u001b[43m,\u001b[49m\u001b[43m \u001b[49m\u001b[43mnum_outputs\u001b[49m\u001b[43m)\u001b[49m\n\u001b[0;32m     55\u001b[0m \u001b[38;5;28;01mexcept\u001b[39;00m core\u001b[38;5;241m.\u001b[39m_NotOkStatusException \u001b[38;5;28;01mas\u001b[39;00m e:\n\u001b[0;32m     56\u001b[0m   \u001b[38;5;28;01mif\u001b[39;00m name \u001b[38;5;129;01mis\u001b[39;00m \u001b[38;5;129;01mnot\u001b[39;00m \u001b[38;5;28;01mNone\u001b[39;00m:\n",
      "\u001b[1;31mKeyboardInterrupt\u001b[0m: "
     ]
    }
   ],
   "source": [
    "EPOCHS = 50\n",
    "train(train_data, EPOCHS)"
   ]
  },
  {
   "cell_type": "markdown",
   "metadata": {},
   "source": [
    "Evaluate Model"
   ]
  },
  {
   "cell_type": "code",
   "execution_count": 110,
   "metadata": {},
   "outputs": [],
   "source": [
    "# Import metric calculations\n",
    "from tensorflow.keras.metrics import Precision, Recall"
   ]
  },
  {
   "cell_type": "code",
   "execution_count": 111,
   "metadata": {},
   "outputs": [
    {
     "name": "stdout",
     "output_type": "stream",
     "text": [
      "1/1 [==============================] - 2s 2s/step\n"
     ]
    },
    {
     "data": {
      "text/plain": [
       "[1, 1, 1, 0, 1, 1, 0, 0, 1, 0, 1, 0, 1, 0, 1, 0]"
      ]
     },
     "execution_count": 111,
     "metadata": {},
     "output_type": "execute_result"
    }
   ],
   "source": [
    "# Get a batch of test data\n",
    "test_input, test_val, y_true = test_data.as_numpy_iterator().next()\n",
    "y_hat = siamese_model.predict([test_input, test_val])\n",
    "# Post processing the results \n",
    "[1 if prediction > 0.5 else 0 for prediction in y_hat ]"
   ]
  },
  {
   "cell_type": "code",
   "execution_count": 112,
   "metadata": {},
   "outputs": [
    {
     "data": {
      "text/plain": [
       "array([1., 1., 1., 0., 1., 1., 0., 0., 1., 0., 1., 0., 1., 0., 1., 0.],\n",
       "      dtype=float32)"
      ]
     },
     "execution_count": 112,
     "metadata": {},
     "output_type": "execute_result"
    }
   ],
   "source": [
    "y_true"
   ]
  },
  {
   "cell_type": "code",
   "execution_count": 113,
   "metadata": {},
   "outputs": [
    {
     "data": {
      "text/plain": [
       "1.0"
      ]
     },
     "execution_count": 113,
     "metadata": {},
     "output_type": "execute_result"
    }
   ],
   "source": [
    "# Creating a metric object \n",
    "m = Recall()\n",
    "\n",
    "# Calculating the recall value \n",
    "m.update_state(y_true, y_hat)\n",
    "\n",
    "# Return Recall Result\n",
    "m.result().numpy()"
   ]
  },
  {
   "cell_type": "code",
   "execution_count": 114,
   "metadata": {},
   "outputs": [
    {
     "data": {
      "text/plain": [
       "1.0"
      ]
     },
     "execution_count": 114,
     "metadata": {},
     "output_type": "execute_result"
    }
   ],
   "source": [
    "# Creating a metric object \n",
    "m = Precision()\n",
    "\n",
    "# Calculating the recall value \n",
    "m.update_state(y_true, y_hat)\n",
    "\n",
    "# Return Recall Result\n",
    "m.result().numpy()"
   ]
  },
  {
   "cell_type": "code",
   "execution_count": 115,
   "metadata": {},
   "outputs": [
    {
     "name": "stdout",
     "output_type": "stream",
     "text": [
      "1/1 [==============================] - 2s 2s/step\n",
      "1/1 [==============================] - 2s 2s/step\n",
      "1/1 [==============================] - 2s 2s/step\n",
      "1/1 [==============================] - 2s 2s/step\n",
      "1/1 [==============================] - 2s 2s/step\n",
      "1/1 [==============================] - 2s 2s/step\n",
      "1/1 [==============================] - 3s 3s/step\n",
      "1/1 [==============================] - 3s 3s/step\n",
      "1/1 [==============================] - 3s 3s/step\n",
      "1/1 [==============================] - 3s 3s/step\n",
      "1/1 [==============================] - 3s 3s/step\n",
      "1/1 [==============================] - 1s 744ms/step\n",
      "1.0 1.0\n"
     ]
    }
   ],
   "source": [
    "r = Recall()\n",
    "p = Precision()\n",
    "\n",
    "for test_input, test_val, y_true in test_data.as_numpy_iterator():\n",
    "    yhat = siamese_model.predict([test_input, test_val])\n",
    "    r.update_state(y_true, yhat)\n",
    "    p.update_state(y_true,yhat) \n",
    "\n",
    "print(r.result().numpy(), p.result().numpy())"
   ]
  },
  {
   "cell_type": "code",
   "execution_count": 116,
   "metadata": {},
   "outputs": [
    {
     "data": {
      "image/png": "[encoded data removed]",
      "text/plain": [
       "<Figure size 1000x800 with 2 Axes>"
      ]
     },
     "metadata": {},
     "output_type": "display_data"
    }
   ],
   "source": [
    "# Set plot size \n",
    "plt.figure(figsize=(10,8))\n",
    "\n",
    "# Set first subplot\n",
    "plt.subplot(1,2,1)\n",
    "plt.imshow(test_input[0])\n",
    "\n",
    "# Set second subplot\n",
    "plt.subplot(1,2,2)\n",
    "plt.imshow(test_val[0])\n",
    "\n",
    "# Renders cleanly\n",
    "plt.show()"
   ]
  },
  {
   "cell_type": "markdown",
   "metadata": {},
   "source": [
    "Save Model"
   ]
  },
  {
   "cell_type": "code",
   "execution_count": 117,
   "metadata": {},
   "outputs": [
    {
     "name": "stdout",
     "output_type": "stream",
     "text": [
      "WARNING:tensorflow:Compiled the loaded model, but the compiled metrics have yet to be built. `model.compile_metrics` will be empty until you train or evaluate the model.\n"
     ]
    },
    {
     "name": "stderr",
     "output_type": "stream",
     "text": [
      "e:\\newpy\\lib\\site-packages\\keras\\src\\engine\\training.py:3000: UserWarning: You are saving your model as an HDF5 file via `model.save()`. This file format is considered legacy. We recommend using instead the native Keras format, e.g. `model.save('my_model.keras')`.\n",
      "  saving_api.save_model(\n"
     ]
    },
    {
     "name": "stdout",
     "output_type": "stream",
     "text": [
      "WARNING:tensorflow:No training configuration found in the save file, so the model was *not* compiled. Compile it manually.\n"
     ]
    }
   ],
   "source": [
    "# Save weights\n",
    "siamese_model.save('siamesemodelv2.h5')\n",
    "L1Dist\n",
    "# Reload model \n",
    "siamese_model = tf.keras.models.load_model('siamesemodelv2.h5', \n",
    "                                   custom_objects={'L1Dist':L1Dist, 'BinaryCrossentropy':tf.losses.BinaryCrossentropy})"
   ]
  },
  {
   "cell_type": "code",
   "execution_count": 118,
   "metadata": {},
   "outputs": [
    {
     "name": "stdout",
     "output_type": "stream",
     "text": [
      "1/1 [==============================] - 1s 673ms/step\n"
     ]
    },
    {
     "data": {
      "text/plain": [
       "array([[8.2495987e-01],\n",
       "       [9.9889070e-01],\n",
       "       [1.4678938e-06],\n",
       "       [8.4015894e-01]], dtype=float32)"
      ]
     },
     "execution_count": 118,
     "metadata": {},
     "output_type": "execute_result"
    }
   ],
   "source": [
    "# Make predictions with reloaded model\n",
    "siamese_model.predict([test_input, test_val])"
   ]
  },
  {
   "cell_type": "code",
   "execution_count": 119,
   "metadata": {},
   "outputs": [
    {
     "name": "stdout",
     "output_type": "stream",
     "text": [
      "Model: \"SiameseNetwork\"\n",
      "__________________________________________________________________________________________________\n",
      " Layer (type)                Output Shape                 Param #   Connected to                  \n",
      "==================================================================================================\n",
      " input_img (InputLayer)      [(None, 100, 100, 3)]        0         []                            \n",
      "                                                                                                  \n",
      " validation_img (InputLayer  [(None, 100, 100, 3)]        0         []                            \n",
      " )                                                                                                \n",
      "                                                                                                  \n",
      " embedding (Functional)      (None, 4096)                 3896044   ['input_img[0][0]',           \n",
      "                                                          8          'validation_img[0][0]']      \n",
      "                                                                                                  \n",
      " l1_dist_3 (L1Dist)          (None, 4096)                 0         ['embedding[0][0]',           \n",
      "                                                                     'embedding[1][0]']           \n",
      "                                                                                                  \n",
      " dense_3 (Dense)             (None, 1)                    4097      ['l1_dist_3[0][0]']           \n",
      "                                                                                                  \n",
      "==================================================================================================\n",
      "Total params: 38964545 (148.64 MB)\n",
      "Trainable params: 38964545 (148.64 MB)\n",
      "Non-trainable params: 0 (0.00 Byte)\n",
      "__________________________________________________________________________________________________\n"
     ]
    }
   ],
   "source": [
    "# View model summary\n",
    "siamese_model.summary()"
   ]
  },
  {
   "cell_type": "markdown",
   "metadata": {},
   "source": [
    " Real Time Test"
   ]
  },
  {
   "cell_type": "code",
   "execution_count": 134,
   "metadata": {},
   "outputs": [
    {
     "data": {
      "text/plain": [
       "'application_data\\\\input_image\\\\input_image.jpg'"
      ]
     },
     "execution_count": 134,
     "metadata": {},
     "output_type": "execute_result"
    }
   ],
   "source": [
    "# application_data\\verification_images\n",
    "os.listdir(os.path.join('application_data', 'verification_images'))\n",
    "os.path.join('application_data', 'input_image', 'input_image.jpg')"
   ]
  },
  {
   "cell_type": "code",
   "execution_count": 135,
   "metadata": {},
   "outputs": [
    {
     "name": "stdout",
     "output_type": "stream",
     "text": [
      "application_data\\verification_images\\4a09b844-234f-11ef-aec7-145afc91039c.jpg\n",
      "application_data\\verification_images\\4a0ee077-234f-11ef-81eb-145afc91039c.jpg\n",
      "application_data\\verification_images\\4a13ed6f-234f-11ef-bdab-145afc91039c.jpg\n",
      "application_data\\verification_images\\4a41b779-234f-11ef-83fd-145afc91039c.jpg\n",
      "application_data\\verification_images\\4a4aecac-234f-11ef-bf5f-145afc91039c.jpg\n",
      "application_data\\verification_images\\4a5609aa-234f-11ef-9e28-145afc91039c.jpg\n",
      "application_data\\verification_images\\4a619348-234f-11ef-89a4-145afc91039c.jpg\n",
      "application_data\\verification_images\\4a6551e7-234f-11ef-ab18-145afc91039c.jpg\n",
      "application_data\\verification_images\\4a704625-234f-11ef-a8be-145afc91039c.jpg\n",
      "application_data\\verification_images\\4a887033-234f-11ef-9a27-145afc91039c.jpg\n",
      "application_data\\verification_images\\4a8fb6b3-234f-11ef-bf37-145afc91039c.jpg\n",
      "application_data\\verification_images\\4aadaee7-234f-11ef-b0cc-145afc91039c.jpg\n",
      "application_data\\verification_images\\4b005a77-234f-11ef-9e9d-145afc91039c.jpg\n",
      "application_data\\verification_images\\4b09fbf4-234f-11ef-889c-145afc91039c.jpg\n",
      "application_data\\verification_images\\4b18cba7-234f-11ef-8529-145afc91039c.jpg\n",
      "application_data\\verification_images\\4b40ebbe-234f-11ef-b42d-145afc91039c.jpg\n",
      "application_data\\verification_images\\4b46d6b8-234f-11ef-b013-145afc91039c.jpg\n",
      "application_data\\verification_images\\4b9b8b9d-234f-11ef-af18-145afc91039c.jpg\n",
      "application_data\\verification_images\\4baadc99-234f-11ef-af4c-145afc91039c.jpg\n",
      "application_data\\verification_images\\4bde7b0d-234f-11ef-bf39-145afc91039c.jpg\n",
      "application_data\\verification_images\\4be2c1df-234f-11ef-9db9-145afc91039c.jpg\n",
      "application_data\\verification_images\\4bef8a01-234f-11ef-8c51-145afc91039c.jpg\n",
      "application_data\\verification_images\\4bfc36f9-234f-11ef-9368-145afc91039c.jpg\n",
      "application_data\\verification_images\\4c2cb89d-234f-11ef-aaf9-145afc91039c.jpg\n"
     ]
    }
   ],
   "source": [
    "for image in os.listdir(os.path.join('application_data', 'verification_images')):\n",
    "    validation_img = os.path.join('application_data', 'verification_images', image)\n",
    "    print(validation_img)"
   ]
  },
  {
   "cell_type": "code",
   "execution_count": 136,
   "metadata": {},
   "outputs": [],
   "source": [
    "def verify(model, detection_threshold, verification_threshold):\n",
    "    # Build results array\n",
    "    results = []\n",
    "    for image in os.listdir(os.path.join('application_data', 'verification_images')):\n",
    "        input_img = preprocess(os.path.join('application_data', 'input_image', 'input_image.jpg'))\n",
    "        validation_img = preprocess(os.path.join('application_data', 'verification_images', image))\n",
    "        \n",
    "        # Make Predictions \n",
    "        result = model.predict(list(np.expand_dims([input_img, validation_img], axis=1)))\n",
    "        results.append(result)\n",
    "    \n",
    "    # Detection Threshold: Metric above which a prediciton is considered positive \n",
    "    detection = np.sum(np.array(results) > detection_threshold)\n",
    "    \n",
    "    # Verification Threshold: Proportion of positive predictions / total positive samples \n",
    "    verification = detection / len(os.listdir(os.path.join('application_data', 'verification_images'))) \n",
    "    verified = verification > verification_threshold\n",
    "    \n",
    "    return results, verified"
   ]
  },
  {
   "cell_type": "code",
   "execution_count": 143,
   "metadata": {},
   "outputs": [
    {
     "name": "stdout",
     "output_type": "stream",
     "text": [
      "1/1 [==============================] - 0s 298ms/step\n",
      "1/1 [==============================] - 0s 388ms/step\n",
      "1/1 [==============================] - 0s 282ms/step\n",
      "1/1 [==============================] - 0s 303ms/step\n",
      "1/1 [==============================] - 0s 267ms/step\n",
      "1/1 [==============================] - 0s 284ms/step\n",
      "1/1 [==============================] - 0s 296ms/step\n",
      "1/1 [==============================] - 0s 257ms/step\n",
      "1/1 [==============================] - 0s 270ms/step\n",
      "1/1 [==============================] - 0s 373ms/step\n",
      "1/1 [==============================] - 1s 515ms/step\n",
      "1/1 [==============================] - 0s 314ms/step\n",
      "1/1 [==============================] - 0s 326ms/step\n",
      "1/1 [==============================] - 0s 269ms/step\n",
      "1/1 [==============================] - 0s 257ms/step\n",
      "1/1 [==============================] - 0s 292ms/step\n",
      "1/1 [==============================] - 0s 283ms/step\n",
      "1/1 [==============================] - 0s 389ms/step\n",
      "1/1 [==============================] - 0s 306ms/step\n",
      "1/1 [==============================] - 0s 301ms/step\n",
      "1/1 [==============================] - 0s 291ms/step\n",
      "1/1 [==============================] - 0s 381ms/step\n",
      "1/1 [==============================] - 0s 312ms/step\n",
      "1/1 [==============================] - 0s 317ms/step\n",
      "False\n"
     ]
    }
   ],
   "source": [
    "cap = cv2.VideoCapture(0)\n",
    "while cap.isOpened():\n",
    "    ret, frame = cap.read()\n",
    "    frame = frame[120:120+250,200:200+250, :]\n",
    "    \n",
    "    cv2.imshow('Verification', frame)\n",
    "    \n",
    "    # Verification trigger\n",
    "    if cv2.waitKey(10) & 0xFF == ord('v'):\n",
    "        # Save input image to application_data/input_image folder \n",
    "#         hsv = cv2.cvtColor(frame, cv2.COLOR_BGR2HSV)\n",
    "#         h, s, v = cv2.split(hsv)\n",
    "\n",
    "#         lim = 255 - 10\n",
    "#         v[v > lim] = 255\n",
    "#         v[v <= lim] -= 10\n",
    "        \n",
    "#         final_hsv = cv2.merge((h, s, v))\n",
    "#         img = cv2.cvtColor(final_hsv, cv2.COLOR_HSV2BGR)\n",
    "\n",
    "        cv2.imwrite(os.path.join('application_data', 'input_image', 'input_image.jpg'), frame)\n",
    "        # Run verification\n",
    "        results, verified = verify(siamese_model, 0.5, 0.5)\n",
    "        print(verified)\n",
    "    \n",
    "    if cv2.waitKey(10) & 0xFF == ord('q'):\n",
    "        break\n",
    "cap.release()\n",
    "cv2.destroyAllWindows()"
   ]
  },
  {
   "cell_type": "code",
   "execution_count": 144,
   "metadata": {},
   "outputs": [
    {
     "data": {
      "text/plain": [
       "0"
      ]
     },
     "execution_count": 144,
     "metadata": {},
     "output_type": "execute_result"
    }
   ],
   "source": [
    "np.sum(np.squeeze(results) > 0.9)"
   ]
  },
  {
   "cell_type": "code",
   "execution_count": 145,
   "metadata": {},
   "outputs": [
    {
     "data": {
      "text/plain": [
       "[array([[0.01248896]], dtype=float32),\n",
       " array([[0.01248896]], dtype=float32),\n",
       " array([[0.00634281]], dtype=float32),\n",
       " array([[0.00449438]], dtype=float32),\n",
       " array([[0.00537697]], dtype=float32),\n",
       " array([[0.00421611]], dtype=float32),\n",
       " array([[0.00608296]], dtype=float32),\n",
       " array([[0.00608296]], dtype=float32),\n",
       " array([[0.00530892]], dtype=float32),\n",
       " array([[0.00243914]], dtype=float32),\n",
       " array([[0.00352639]], dtype=float32),\n",
       " array([[0.00380595]], dtype=float32),\n",
       " array([[0.00237106]], dtype=float32),\n",
       " array([[0.00096488]], dtype=float32),\n",
       " array([[0.00044667]], dtype=float32),\n",
       " array([[0.00040328]], dtype=float32),\n",
       " array([[0.00032841]], dtype=float32),\n",
       " array([[0.00074352]], dtype=float32),\n",
       " array([[0.00065374]], dtype=float32),\n",
       " array([[0.00039525]], dtype=float32),\n",
       " array([[0.00039525]], dtype=float32),\n",
       " array([[0.00046935]], dtype=float32),\n",
       " array([[0.00048533]], dtype=float32),\n",
       " array([[0.0041152]], dtype=float32)]"
      ]
     },
     "execution_count": 145,
     "metadata": {},
     "output_type": "execute_result"
    }
   ],
   "source": [
    "results"
   ]
  }
 ],
 "metadata": {
  "kernelspec": {
   "display_name": "Python 3",
   "language": "python",
   "name": "python3"
  },
  "language_info": {
   "codemirror_mode": {
    "name": "ipython",
    "version": 3
   },
   "file_extension": ".py",
   "mimetype": "text/x-python",
   "name": "python",
   "nbconvert_exporter": "python",
   "pygments_lexer": "ipython3",
   "version": "3.8.10"
  }
 },
 "nbformat": 4,
 "nbformat_minor": 2
}
